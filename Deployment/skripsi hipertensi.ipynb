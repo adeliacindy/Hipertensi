{
  "cells": [
    {
      "cell_type": "markdown",
      "metadata": {
        "id": "Oa-ER_hd0fwG"
      },
      "source": [
        "# **Import Library**"
      ]
    },
    {
      "cell_type": "code",
      "execution_count": 1,
      "metadata": {
        "id": "LPAyCzzCxYcl"
      },
      "outputs": [],
      "source": [
        "import pandas as pd"
      ]
    },
    {
      "cell_type": "markdown",
      "metadata": {
        "id": "cKhBGRRN23k2"
      },
      "source": [
        "# **Import Data**"
      ]
    },
    {
      "cell_type": "code",
      "execution_count": 2,
      "metadata": {
        "colab": {
          "base_uri": "https://localhost:8080/"
        },
        "id": "xdY3SJoxxo12",
        "outputId": "31b45492-fefb-4418-f8de-fa17232eb55a"
      },
      "outputs": [
        {
          "output_type": "stream",
          "name": "stdout",
          "text": [
            "Mounted at /content/drive\n"
          ]
        }
      ],
      "source": [
        "# Input data\n",
        "from google.colab import drive\n",
        "drive.mount('/content/drive')\n",
        "data=pd.read_excel('/content/drive/MyDrive/Skripsi/Hipertensi.xlsx')"
      ]
    },
    {
      "cell_type": "markdown",
      "metadata": {
        "id": "VIs4W6Rh298L"
      },
      "source": [
        "# **Data Understanding**"
      ]
    },
    {
      "cell_type": "code",
      "execution_count": 3,
      "metadata": {
        "colab": {
          "base_uri": "https://localhost:8080/"
        },
        "id": "e1woEkGhyPde",
        "outputId": "07bc632e-b431-4618-a89c-e36cd3a9e678"
      },
      "outputs": [
        {
          "output_type": "stream",
          "name": "stdout",
          "text": [
            "                    Nama Pasien Jenis Kelamin  Berat Badan  Tinggi Badan  \\\n",
            "0     SHOFIA SABILA ROHMATUNISA     PEREMPUAN         54.0         150.0   \n",
            "1                   WAHYU ADIKA     LAKI-LAKI         61.0         172.0   \n",
            "2         ERMA EVILIANANINGTYAS     PEREMPUAN         82.0         153.0   \n",
            "3         SARILA ACHMAD ZAKARIA     LAKI-LAKI         46.0         157.0   \n",
            "4          PUTRI SHELLA MAWARNI     PEREMPUAN         55.0         155.0   \n",
            "...                         ...           ...          ...           ...   \n",
            "1127                    SUNARDI     LAKI-LAKI         50.0         150.0   \n",
            "1128              FITRI JUNIATI     PEREMPUAN         50.0         155.0   \n",
            "1129           ALI UMAR ALFARUQ     LAKI-LAKI         45.0         160.0   \n",
            "1130                    SUWARNI     PEREMPUAN         60.0         157.0   \n",
            "1131      SHINTA BHAKTI KHIRIAN     PEREMPUAN         48.0         155.0   \n",
            "\n",
            "      Lingkar Perut  Tekanan Darah Sistolik  Tekanan Darah Diastolik  \\\n",
            "0              79.0                   110.0                     78.0   \n",
            "1              83.0                   141.0                    120.0   \n",
            "2             100.0                   155.0                     97.0   \n",
            "3              70.0                   120.0                     72.0   \n",
            "4              80.0                   119.0                     79.0   \n",
            "...             ...                     ...                      ...   \n",
            "1127           80.0                   130.0                     80.0   \n",
            "1128           71.0                   120.0                     80.0   \n",
            "1129           68.0                   110.0                     60.0   \n",
            "1130           82.0                   112.0                     78.0   \n",
            "1131           75.0                   115.0                     75.0   \n",
            "\n",
            "     Risiko Merokok Kurang Aktivitas Fisik Gula Berlebihan Garam Berlebihan  \\\n",
            "0             TIDAK                  TIDAK              YA            TIDAK   \n",
            "1                YA                     YA           TIDAK            TIDAK   \n",
            "2             TIDAK                  TIDAK              YA               YA   \n",
            "3                YA                     YA           TIDAK               YA   \n",
            "4             TIDAK                  TIDAK              YA            TIDAK   \n",
            "...             ...                    ...             ...              ...   \n",
            "1127          TIDAK                  TIDAK           TIDAK            TIDAK   \n",
            "1128          TIDAK                  TIDAK              YA            TIDAK   \n",
            "1129          TIDAK                  TIDAK           TIDAK            TIDAK   \n",
            "1130          TIDAK                  TIDAK           TIDAK            TIDAK   \n",
            "1131          TIDAK                     YA           TIDAK            TIDAK   \n",
            "\n",
            "     Lemak Berlebihan Kurang Makan Buah dan Sayur Konsumsi Alkohol  \\\n",
            "0               TIDAK                          YA            TIDAK   \n",
            "1               TIDAK                          YA               YA   \n",
            "2                  YA                       TIDAK            TIDAK   \n",
            "3                  YA                       TIDAK               YA   \n",
            "4               TIDAK                       TIDAK            TIDAK   \n",
            "...               ...                         ...              ...   \n",
            "1127            TIDAK                       TIDAK            TIDAK   \n",
            "1128            TIDAK                       TIDAK            TIDAK   \n",
            "1129            TIDAK                          YA            TIDAK   \n",
            "1130            TIDAK                       TIDAK            TIDAK   \n",
            "1131            TIDAK                       TIDAK            TIDAK   \n",
            "\n",
            "     Status Hipertensi  \n",
            "0               NORMAL  \n",
            "1           HIPERTENSI  \n",
            "2           HIPERTENSI  \n",
            "3               NORMAL  \n",
            "4               NORMAL  \n",
            "...                ...  \n",
            "1127            NORMAL  \n",
            "1128            NORMAL  \n",
            "1129            NORMAL  \n",
            "1130            NORMAL  \n",
            "1131            NORMAL  \n",
            "\n",
            "[1132 rows x 15 columns]\n"
          ]
        }
      ],
      "source": [
        "# Menampilkan data\n",
        "print(data)"
      ]
    },
    {
      "cell_type": "code",
      "execution_count": 4,
      "metadata": {
        "colab": {
          "base_uri": "https://localhost:8080/"
        },
        "id": "vXXOaYO33H7H",
        "outputId": "48ef07a6-6508-4992-f138-09a33570f767"
      },
      "outputs": [
        {
          "output_type": "stream",
          "name": "stdout",
          "text": [
            "Jumlah baris dan kolom: (1132, 15)\n",
            "<class 'pandas.core.frame.DataFrame'>\n",
            "RangeIndex: 1132 entries, 0 to 1131\n",
            "Data columns (total 15 columns):\n",
            " #   Column                       Non-Null Count  Dtype  \n",
            "---  ------                       --------------  -----  \n",
            " 0   Nama Pasien                  1132 non-null   object \n",
            " 1   Jenis Kelamin                1132 non-null   object \n",
            " 2   Berat Badan                  1110 non-null   float64\n",
            " 3   Tinggi Badan                 1110 non-null   float64\n",
            " 4   Lingkar Perut                1104 non-null   float64\n",
            " 5   Tekanan Darah Sistolik       1126 non-null   float64\n",
            " 6   Tekanan Darah Diastolik      1126 non-null   float64\n",
            " 7   Risiko Merokok               1132 non-null   object \n",
            " 8   Kurang Aktivitas Fisik       1132 non-null   object \n",
            " 9   Gula Berlebihan              1132 non-null   object \n",
            " 10  Garam Berlebihan             1132 non-null   object \n",
            " 11  Lemak Berlebihan             1132 non-null   object \n",
            " 12  Kurang Makan Buah dan Sayur  1132 non-null   object \n",
            " 13  Konsumsi Alkohol             1132 non-null   object \n",
            " 14  Status Hipertensi            1132 non-null   object \n",
            "dtypes: float64(5), object(10)\n",
            "memory usage: 132.8+ KB\n"
          ]
        }
      ],
      "source": [
        "# Informasi jumlah baris, kolom, dan struktur data\n",
        "print(\"Jumlah baris dan kolom:\", data.shape)\n",
        "data.info()"
      ]
    },
    {
      "cell_type": "code",
      "execution_count": 5,
      "metadata": {
        "id": "QZPR_iuv3Trp"
      },
      "outputs": [],
      "source": [
        "# Variabel independen dan dependen\n",
        "x = data.drop(['Status Hipertensi'], axis=1)\n",
        "y = data['Status Hipertensi']"
      ]
    },
    {
      "cell_type": "code",
      "source": [
        "# Variabel independen\n",
        "x = data.drop(['Status Hipertensi'], axis=1)\n",
        "print(x)"
      ],
      "metadata": {
        "colab": {
          "base_uri": "https://localhost:8080/"
        },
        "id": "90KTfQlACZNm",
        "outputId": "aed2d800-520b-43c9-c22b-081aea7c1cfd"
      },
      "execution_count": 6,
      "outputs": [
        {
          "output_type": "stream",
          "name": "stdout",
          "text": [
            "                    Nama Pasien Jenis Kelamin  Berat Badan  Tinggi Badan  \\\n",
            "0     SHOFIA SABILA ROHMATUNISA     PEREMPUAN         54.0         150.0   \n",
            "1                   WAHYU ADIKA     LAKI-LAKI         61.0         172.0   \n",
            "2         ERMA EVILIANANINGTYAS     PEREMPUAN         82.0         153.0   \n",
            "3         SARILA ACHMAD ZAKARIA     LAKI-LAKI         46.0         157.0   \n",
            "4          PUTRI SHELLA MAWARNI     PEREMPUAN         55.0         155.0   \n",
            "...                         ...           ...          ...           ...   \n",
            "1127                    SUNARDI     LAKI-LAKI         50.0         150.0   \n",
            "1128              FITRI JUNIATI     PEREMPUAN         50.0         155.0   \n",
            "1129           ALI UMAR ALFARUQ     LAKI-LAKI         45.0         160.0   \n",
            "1130                    SUWARNI     PEREMPUAN         60.0         157.0   \n",
            "1131      SHINTA BHAKTI KHIRIAN     PEREMPUAN         48.0         155.0   \n",
            "\n",
            "      Lingkar Perut  Tekanan Darah Sistolik  Tekanan Darah Diastolik  \\\n",
            "0              79.0                   110.0                     78.0   \n",
            "1              83.0                   141.0                    120.0   \n",
            "2             100.0                   155.0                     97.0   \n",
            "3              70.0                   120.0                     72.0   \n",
            "4              80.0                   119.0                     79.0   \n",
            "...             ...                     ...                      ...   \n",
            "1127           80.0                   130.0                     80.0   \n",
            "1128           71.0                   120.0                     80.0   \n",
            "1129           68.0                   110.0                     60.0   \n",
            "1130           82.0                   112.0                     78.0   \n",
            "1131           75.0                   115.0                     75.0   \n",
            "\n",
            "     Risiko Merokok Kurang Aktivitas Fisik Gula Berlebihan Garam Berlebihan  \\\n",
            "0             TIDAK                  TIDAK              YA            TIDAK   \n",
            "1                YA                     YA           TIDAK            TIDAK   \n",
            "2             TIDAK                  TIDAK              YA               YA   \n",
            "3                YA                     YA           TIDAK               YA   \n",
            "4             TIDAK                  TIDAK              YA            TIDAK   \n",
            "...             ...                    ...             ...              ...   \n",
            "1127          TIDAK                  TIDAK           TIDAK            TIDAK   \n",
            "1128          TIDAK                  TIDAK              YA            TIDAK   \n",
            "1129          TIDAK                  TIDAK           TIDAK            TIDAK   \n",
            "1130          TIDAK                  TIDAK           TIDAK            TIDAK   \n",
            "1131          TIDAK                     YA           TIDAK            TIDAK   \n",
            "\n",
            "     Lemak Berlebihan Kurang Makan Buah dan Sayur Konsumsi Alkohol  \n",
            "0               TIDAK                          YA            TIDAK  \n",
            "1               TIDAK                          YA               YA  \n",
            "2                  YA                       TIDAK            TIDAK  \n",
            "3                  YA                       TIDAK               YA  \n",
            "4               TIDAK                       TIDAK            TIDAK  \n",
            "...               ...                         ...              ...  \n",
            "1127            TIDAK                       TIDAK            TIDAK  \n",
            "1128            TIDAK                       TIDAK            TIDAK  \n",
            "1129            TIDAK                          YA            TIDAK  \n",
            "1130            TIDAK                       TIDAK            TIDAK  \n",
            "1131            TIDAK                       TIDAK            TIDAK  \n",
            "\n",
            "[1132 rows x 14 columns]\n"
          ]
        }
      ]
    },
    {
      "cell_type": "code",
      "source": [
        "# Variabel dependen\n",
        "y = data['Status Hipertensi']\n",
        "print(y)"
      ],
      "metadata": {
        "colab": {
          "base_uri": "https://localhost:8080/"
        },
        "id": "EfPPs0JaCzIX",
        "outputId": "c0b96ce5-b399-40fc-fc9e-b8906a703618"
      },
      "execution_count": 7,
      "outputs": [
        {
          "output_type": "stream",
          "name": "stdout",
          "text": [
            "0           NORMAL\n",
            "1       HIPERTENSI\n",
            "2       HIPERTENSI\n",
            "3           NORMAL\n",
            "4           NORMAL\n",
            "           ...    \n",
            "1127        NORMAL\n",
            "1128        NORMAL\n",
            "1129        NORMAL\n",
            "1130        NORMAL\n",
            "1131        NORMAL\n",
            "Name: Status Hipertensi, Length: 1132, dtype: object\n"
          ]
        }
      ]
    },
    {
      "cell_type": "markdown",
      "metadata": {
        "id": "yuIYq_hy4C1K"
      },
      "source": [
        "# **Analisis Deskriptif**"
      ]
    },
    {
      "cell_type": "code",
      "execution_count": 8,
      "metadata": {
        "colab": {
          "base_uri": "https://localhost:8080/"
        },
        "id": "cwBiYZ1MzS3y",
        "outputId": "5d0c3f3f-4070-47a3-a3a7-b3bc226b008a"
      },
      "outputs": [
        {
          "output_type": "stream",
          "name": "stdout",
          "text": [
            "       Berat Badan  Tinggi Badan  Lingkar Perut  Tekanan Darah Sistolik  \\\n",
            "count  1110.000000   1110.000000    1104.000000             1126.000000   \n",
            "mean     58.330631    156.987387      79.692935              123.252220   \n",
            "std      10.644838      7.332981       9.041403               21.475327   \n",
            "min      33.000000    113.000000      50.000000               82.000000   \n",
            "25%      50.000000    152.000000      76.000000              110.000000   \n",
            "50%      57.000000    155.000000      80.000000              120.000000   \n",
            "75%      65.000000    160.000000      85.000000              131.000000   \n",
            "max     108.000000    183.000000     120.000000              224.000000   \n",
            "\n",
            "       Tekanan Darah Diastolik  \n",
            "count              1126.000000  \n",
            "mean                 77.711368  \n",
            "std                  11.291420  \n",
            "min                  50.000000  \n",
            "25%                  70.000000  \n",
            "50%                  80.000000  \n",
            "75%                  83.000000  \n",
            "max                 137.000000  \n"
          ]
        }
      ],
      "source": [
        "# Deskripsi statistik variabel independen numerik\n",
        "print(data.describe())"
      ]
    },
    {
      "cell_type": "code",
      "execution_count": 9,
      "metadata": {
        "colab": {
          "base_uri": "https://localhost:8080/"
        },
        "id": "JITQIxY6Z9wT",
        "outputId": "c5b0701f-0ba7-433a-d526-ec04e479afc6"
      },
      "outputs": [
        {
          "output_type": "stream",
          "name": "stdout",
          "text": [
            "\n",
            "Frekuensi dan Persentase untuk Jenis Kelamin:\n",
            "               Frekuensi  Persentase (%)\n",
            "Jenis Kelamin                           \n",
            "PEREMPUAN            682        60.24735\n",
            "LAKI-LAKI            450        39.75265\n",
            "\n",
            "Frekuensi dan Persentase untuk Risiko Merokok:\n",
            "                Frekuensi  Persentase (%)\n",
            "Risiko Merokok                           \n",
            "TIDAK                 995       87.897527\n",
            "YA                    137       12.102473\n",
            "\n",
            "Frekuensi dan Persentase untuk Kurang Aktivitas Fisik:\n",
            "                        Frekuensi  Persentase (%)\n",
            "Kurang Aktivitas Fisik                           \n",
            "TIDAK                        1121       99.028269\n",
            "YA                             11        0.971731\n",
            "\n",
            "Frekuensi dan Persentase untuk Gula Berlebihan:\n",
            "                 Frekuensi  Persentase (%)\n",
            "Gula Berlebihan                           \n",
            "TIDAK                 1122       99.116608\n",
            "YA                      10        0.883392\n",
            "\n",
            "Frekuensi dan Persentase untuk Garam Berlebihan:\n",
            "                  Frekuensi  Persentase (%)\n",
            "Garam Berlebihan                           \n",
            "TIDAK                  1126       99.469965\n",
            "YA                        6        0.530035\n",
            "\n",
            "Frekuensi dan Persentase untuk Lemak Berlebihan:\n",
            "                  Frekuensi  Persentase (%)\n",
            "Lemak Berlebihan                           \n",
            "TIDAK                  1123       99.204947\n",
            "YA                        9        0.795053\n",
            "\n",
            "Frekuensi dan Persentase untuk Kurang Makan Buah dan Sayur:\n",
            "                             Frekuensi  Persentase (%)\n",
            "Kurang Makan Buah dan Sayur                           \n",
            "TIDAK                             1124       99.293286\n",
            "YA                                   8        0.706714\n",
            "\n",
            "Frekuensi dan Persentase untuk Konsumsi Alkohol:\n",
            "                  Frekuensi  Persentase (%)\n",
            "Konsumsi Alkohol                           \n",
            "TIDAK                  1125       99.381625\n",
            "YA                        7        0.618375\n",
            "\n",
            "Frekuensi dan Persentase untuk Status Hipertensi:\n",
            "                   Frekuensi  Persentase (%)\n",
            "Status Hipertensi                           \n",
            "NORMAL                   935       82.597173\n",
            "HIPERTENSI               197       17.402827\n"
          ]
        }
      ],
      "source": [
        "# Deskripsi statistik variabel independen kategorik\n",
        "columns_to_analyze = [\n",
        "    'Jenis Kelamin', 'Risiko Merokok', 'Kurang Aktivitas Fisik',\n",
        "    'Gula Berlebihan', 'Garam Berlebihan', 'Lemak Berlebihan',\n",
        "    'Kurang Makan Buah dan Sayur', 'Konsumsi Alkohol', 'Status Hipertensi'\n",
        "]\n",
        "\n",
        "for column in columns_to_analyze:\n",
        "    counts = data[column].value_counts()\n",
        "    percentage = counts / counts.sum() * 100\n",
        "    print(f\"\\nFrekuensi dan Persentase untuk {column}:\")\n",
        "    print(pd.DataFrame({'Frekuensi': counts, 'Persentase (%)': percentage}))"
      ]
    },
    {
      "cell_type": "code",
      "execution_count": 10,
      "metadata": {
        "colab": {
          "base_uri": "https://localhost:8080/"
        },
        "id": "YRhDpT2MZ0OD",
        "outputId": "0b1579a4-4ec1-481d-fb18-c9793c29f8c4"
      },
      "outputs": [
        {
          "output_type": "stream",
          "name": "stdout",
          "text": [
            "\n",
            "Frekuensi dan Persentase Status Hipertensi:\n",
            "                   Frekuensi  Persentase (%)\n",
            "Status Hipertensi                           \n",
            "NORMAL                   935       82.597173\n",
            "HIPERTENSI               197       17.402827\n"
          ]
        }
      ],
      "source": [
        "# # Deskripsi statistik variabel dependen\n",
        "status_counts = y.value_counts()\n",
        "status_percentage = status_counts / len(y) * 100\n",
        "print(\"\\nFrekuensi dan Persentase Status Hipertensi:\")\n",
        "print(pd.DataFrame({'Frekuensi': status_counts, 'Persentase (%)': status_percentage}))"
      ]
    },
    {
      "cell_type": "markdown",
      "metadata": {
        "id": "dSxTqBqc4MZv"
      },
      "source": [
        "# **Data Preparation**"
      ]
    },
    {
      "cell_type": "markdown",
      "metadata": {
        "id": "HBlbfzD95hHL"
      },
      "source": [
        "## **Missing Value**"
      ]
    },
    {
      "cell_type": "code",
      "execution_count": 11,
      "metadata": {
        "colab": {
          "base_uri": "https://localhost:8080/"
        },
        "id": "l8YkIOI14Vjq",
        "outputId": "43ab7185-3b07-4a4a-9544-c6e140650bc7"
      },
      "outputs": [
        {
          "output_type": "stream",
          "name": "stdout",
          "text": [
            "Jumlah Missing Values per Kolom:\n",
            "Nama Pasien                     0\n",
            "Jenis Kelamin                   0\n",
            "Berat Badan                    22\n",
            "Tinggi Badan                   22\n",
            "Lingkar Perut                  28\n",
            "Tekanan Darah Sistolik          6\n",
            "Tekanan Darah Diastolik         6\n",
            "Risiko Merokok                  0\n",
            "Kurang Aktivitas Fisik          0\n",
            "Gula Berlebihan                 0\n",
            "Garam Berlebihan                0\n",
            "Lemak Berlebihan                0\n",
            "Kurang Makan Buah dan Sayur     0\n",
            "Konsumsi Alkohol                0\n",
            "Status Hipertensi               0\n",
            "dtype: int64\n"
          ]
        }
      ],
      "source": [
        "# Mengecek nilai yang hilang\n",
        "print(\"Jumlah Missing Values per Kolom:\")\n",
        "print(data.isnull().sum())"
      ]
    },
    {
      "cell_type": "code",
      "source": [
        "# Menampilkan total nilai NaN\n",
        "total_nan = data.isnull().sum().sum()\n",
        "print(\"Total nilai NaN di dataset:\", total_nan)"
      ],
      "metadata": {
        "colab": {
          "base_uri": "https://localhost:8080/"
        },
        "id": "tkRmgS2HAgLq",
        "outputId": "83fa2e3e-2dd1-4d7f-8553-4f61d7d1e75d"
      },
      "execution_count": 12,
      "outputs": [
        {
          "output_type": "stream",
          "name": "stdout",
          "text": [
            "Total nilai NaN di dataset: 84\n"
          ]
        }
      ]
    },
    {
      "cell_type": "code",
      "execution_count": 13,
      "metadata": {
        "colab": {
          "base_uri": "https://localhost:8080/"
        },
        "id": "1ehKuzKM4utz",
        "outputId": "48a4aced-816e-4850-b835-90fc802b77fc"
      },
      "outputs": [
        {
          "output_type": "stream",
          "name": "stdout",
          "text": [
            "Jumlah baris dengan Missing Values: 28\n",
            "              Nama Pasien Jenis Kelamin  Berat Badan  Tinggi Badan  \\\n",
            "140         EKO SUWARSONO     LAKI-LAKI          NaN           NaN   \n",
            "166               SUWARNI     PEREMPUAN          NaN           NaN   \n",
            "220            DWI RAHAYU     PEREMPUAN          NaN           NaN   \n",
            "237        FRENDI PRATAMA     LAKI-LAKI          NaN           NaN   \n",
            "325               NUR ARI     PEREMPUAN          NaN           NaN   \n",
            "391         EKO SUWARSONO     LAKI-LAKI          NaN           NaN   \n",
            "417               SUWARNI     PEREMPUAN          NaN           NaN   \n",
            "471            DWI RAHAYU     PEREMPUAN          NaN           NaN   \n",
            "488        FRENDI PRATAMA     LAKI-LAKI          NaN           NaN   \n",
            "576               NUR ARI     PEREMPUAN          NaN           NaN   \n",
            "835               SUGIMIN     LAKI-LAKI         50.0         150.0   \n",
            "836      TRI SUNU WINARNO     LAKI-LAKI         62.0         152.0   \n",
            "841         MARLENI SUSAN     PEREMPUAN         55.0         150.0   \n",
            "890             SUTARLANI     LAKI-LAKI          NaN           NaN   \n",
            "892      DEHA PUTRI UTAMI     PEREMPUAN          NaN           NaN   \n",
            "931               RUKMINI     PEREMPUAN          NaN           NaN   \n",
            "933       TUTIK AMBARWATI     PEREMPUAN          NaN           NaN   \n",
            "942               MARYANI     PEREMPUAN         45.0         155.0   \n",
            "972               SUGIMIN     LAKI-LAKI         45.0         145.0   \n",
            "979   JAIMAN MANTO WIYONO     LAKI-LAKI         47.0         145.0   \n",
            "1015        DARNO GIYANTO     LAKI-LAKI          NaN           NaN   \n",
            "1048            ISTIKOMAH     PEREMPUAN          NaN           NaN   \n",
            "1054                GIYEM     PEREMPUAN          NaN           NaN   \n",
            "1059              SUWARTI     PEREMPUAN          NaN           NaN   \n",
            "1061  RHEVA CAHYA SAPUTRA     LAKI-LAKI          NaN           NaN   \n",
            "1063              WARSINI     PEREMPUAN          NaN           NaN   \n",
            "1067     SOLEKAH NURJANAH     PEREMPUAN          NaN           NaN   \n",
            "1071   ADITYA DWI SAPUTRA     LAKI-LAKI          NaN           NaN   \n",
            "\n",
            "      Lingkar Perut  Tekanan Darah Sistolik  Tekanan Darah Diastolik  \\\n",
            "140             NaN                     NaN                      NaN   \n",
            "166             NaN                   120.0                     80.0   \n",
            "220             NaN                     NaN                      NaN   \n",
            "237             NaN                   110.0                     70.0   \n",
            "325             NaN                   110.0                     80.0   \n",
            "391             NaN                   110.0                     80.0   \n",
            "417             NaN                   110.0                     80.0   \n",
            "471             NaN                   120.0                     80.0   \n",
            "488             NaN                   120.0                     80.0   \n",
            "576             NaN                   110.0                     70.0   \n",
            "835             NaN                   110.0                     70.0   \n",
            "836             NaN                    83.0                     80.0   \n",
            "841             NaN                    83.0                     80.0   \n",
            "890             NaN                   110.0                     75.0   \n",
            "892             NaN                   110.0                     80.0   \n",
            "931             NaN                   125.0                     80.0   \n",
            "933             NaN                    83.0                     75.0   \n",
            "942             NaN                   123.0                     75.0   \n",
            "972             NaN                     NaN                      NaN   \n",
            "979             NaN                     NaN                      NaN   \n",
            "1015            NaN                     NaN                      NaN   \n",
            "1048            NaN                   110.0                     76.0   \n",
            "1054            NaN                    83.0                     80.0   \n",
            "1059            NaN                   110.0                     74.0   \n",
            "1061            NaN                    83.0                     75.0   \n",
            "1063            NaN                   130.0                     88.0   \n",
            "1067            NaN                     NaN                      NaN   \n",
            "1071            NaN                   110.0                     80.0   \n",
            "\n",
            "     Risiko Merokok Kurang Aktivitas Fisik Gula Berlebihan Garam Berlebihan  \\\n",
            "140              YA                  TIDAK           TIDAK            TIDAK   \n",
            "166           TIDAK                  TIDAK           TIDAK            TIDAK   \n",
            "220           TIDAK                  TIDAK           TIDAK            TIDAK   \n",
            "237              YA                  TIDAK           TIDAK            TIDAK   \n",
            "325           TIDAK                  TIDAK           TIDAK            TIDAK   \n",
            "391           TIDAK                  TIDAK           TIDAK            TIDAK   \n",
            "417           TIDAK                  TIDAK           TIDAK            TIDAK   \n",
            "471           TIDAK                  TIDAK           TIDAK            TIDAK   \n",
            "488              YA                  TIDAK           TIDAK            TIDAK   \n",
            "576           TIDAK                  TIDAK           TIDAK            TIDAK   \n",
            "835           TIDAK                  TIDAK           TIDAK            TIDAK   \n",
            "836           TIDAK                  TIDAK           TIDAK            TIDAK   \n",
            "841           TIDAK                  TIDAK           TIDAK            TIDAK   \n",
            "890           TIDAK                  TIDAK           TIDAK            TIDAK   \n",
            "892           TIDAK                  TIDAK           TIDAK            TIDAK   \n",
            "931           TIDAK                  TIDAK           TIDAK            TIDAK   \n",
            "933           TIDAK                  TIDAK           TIDAK            TIDAK   \n",
            "942           TIDAK                  TIDAK           TIDAK            TIDAK   \n",
            "972           TIDAK                  TIDAK           TIDAK            TIDAK   \n",
            "979           TIDAK                  TIDAK           TIDAK            TIDAK   \n",
            "1015          TIDAK                  TIDAK           TIDAK            TIDAK   \n",
            "1048          TIDAK                  TIDAK           TIDAK            TIDAK   \n",
            "1054          TIDAK                  TIDAK           TIDAK            TIDAK   \n",
            "1059          TIDAK                  TIDAK           TIDAK            TIDAK   \n",
            "1061          TIDAK                  TIDAK           TIDAK            TIDAK   \n",
            "1063          TIDAK                  TIDAK           TIDAK            TIDAK   \n",
            "1067          TIDAK                  TIDAK           TIDAK            TIDAK   \n",
            "1071          TIDAK                  TIDAK           TIDAK            TIDAK   \n",
            "\n",
            "     Lemak Berlebihan Kurang Makan Buah dan Sayur Konsumsi Alkohol  \\\n",
            "140             TIDAK                       TIDAK            TIDAK   \n",
            "166             TIDAK                       TIDAK            TIDAK   \n",
            "220             TIDAK                       TIDAK            TIDAK   \n",
            "237             TIDAK                       TIDAK            TIDAK   \n",
            "325             TIDAK                       TIDAK            TIDAK   \n",
            "391             TIDAK                       TIDAK            TIDAK   \n",
            "417             TIDAK                       TIDAK            TIDAK   \n",
            "471             TIDAK                       TIDAK            TIDAK   \n",
            "488             TIDAK                       TIDAK            TIDAK   \n",
            "576             TIDAK                       TIDAK            TIDAK   \n",
            "835             TIDAK                       TIDAK            TIDAK   \n",
            "836             TIDAK                       TIDAK            TIDAK   \n",
            "841             TIDAK                       TIDAK            TIDAK   \n",
            "890             TIDAK                       TIDAK            TIDAK   \n",
            "892             TIDAK                       TIDAK            TIDAK   \n",
            "931             TIDAK                       TIDAK            TIDAK   \n",
            "933             TIDAK                       TIDAK            TIDAK   \n",
            "942             TIDAK                       TIDAK            TIDAK   \n",
            "972             TIDAK                       TIDAK            TIDAK   \n",
            "979             TIDAK                       TIDAK            TIDAK   \n",
            "1015            TIDAK                       TIDAK            TIDAK   \n",
            "1048            TIDAK                       TIDAK            TIDAK   \n",
            "1054            TIDAK                       TIDAK            TIDAK   \n",
            "1059            TIDAK                       TIDAK            TIDAK   \n",
            "1061            TIDAK                       TIDAK            TIDAK   \n",
            "1063            TIDAK                       TIDAK            TIDAK   \n",
            "1067            TIDAK                       TIDAK            TIDAK   \n",
            "1071            TIDAK                       TIDAK            TIDAK   \n",
            "\n",
            "     Status Hipertensi  \n",
            "140             NORMAL  \n",
            "166             NORMAL  \n",
            "220             NORMAL  \n",
            "237             NORMAL  \n",
            "325             NORMAL  \n",
            "391             NORMAL  \n",
            "417             NORMAL  \n",
            "471             NORMAL  \n",
            "488             NORMAL  \n",
            "576             NORMAL  \n",
            "835             NORMAL  \n",
            "836             NORMAL  \n",
            "841             NORMAL  \n",
            "890             NORMAL  \n",
            "892             NORMAL  \n",
            "931             NORMAL  \n",
            "933             NORMAL  \n",
            "942             NORMAL  \n",
            "972             NORMAL  \n",
            "979             NORMAL  \n",
            "1015            NORMAL  \n",
            "1048            NORMAL  \n",
            "1054            NORMAL  \n",
            "1059            NORMAL  \n",
            "1061            NORMAL  \n",
            "1063            NORMAL  \n",
            "1067            NORMAL  \n",
            "1071            NORMAL  \n"
          ]
        }
      ],
      "source": [
        "# Menampilkan baris dengan nilai hilang\n",
        "missing_data = data[data.isnull().any(axis=1)]\n",
        "print(\"Jumlah baris dengan Missing Values:\", len(missing_data))\n",
        "print(missing_data)"
      ]
    },
    {
      "cell_type": "code",
      "execution_count": 14,
      "metadata": {
        "id": "ZSYoDV8JDzDK"
      },
      "outputs": [],
      "source": [
        "# Menghapus baris dengan Missing Values\n",
        "data.dropna(inplace=True)"
      ]
    },
    {
      "cell_type": "code",
      "execution_count": 15,
      "metadata": {
        "colab": {
          "base_uri": "https://localhost:8080/"
        },
        "id": "Cg-PSFCs5Atj",
        "outputId": "a5ef43d4-663b-4511-a01b-85d094bbd851"
      },
      "outputs": [
        {
          "output_type": "stream",
          "name": "stdout",
          "text": [
            "Jumlah baris setelah Missing Values dihapus: 1104\n",
            "Nama Pasien                    0\n",
            "Jenis Kelamin                  0\n",
            "Berat Badan                    0\n",
            "Tinggi Badan                   0\n",
            "Lingkar Perut                  0\n",
            "Tekanan Darah Sistolik         0\n",
            "Tekanan Darah Diastolik        0\n",
            "Risiko Merokok                 0\n",
            "Kurang Aktivitas Fisik         0\n",
            "Gula Berlebihan                0\n",
            "Garam Berlebihan               0\n",
            "Lemak Berlebihan               0\n",
            "Kurang Makan Buah dan Sayur    0\n",
            "Konsumsi Alkohol               0\n",
            "Status Hipertensi              0\n",
            "dtype: int64\n"
          ]
        }
      ],
      "source": [
        "# Verifikasi setelah penanganan\n",
        "print(\"Jumlah baris setelah Missing Values dihapus:\", len(data))\n",
        "print(data.isnull().sum())"
      ]
    },
    {
      "cell_type": "markdown",
      "metadata": {
        "id": "9IPhQ_VQY_M3"
      },
      "source": [
        "## **Duplikasi Data**"
      ]
    },
    {
      "cell_type": "code",
      "execution_count": 16,
      "metadata": {
        "colab": {
          "base_uri": "https://localhost:8080/"
        },
        "id": "134JvQEyZD65",
        "outputId": "e39cafad-6610-4d02-9063-759c048b5e86"
      },
      "outputs": [
        {
          "output_type": "stream",
          "name": "stdout",
          "text": [
            "Jumlah baris duplikat: 203\n"
          ]
        }
      ],
      "source": [
        "# Mengecek dan menampilkan baris duplikat\n",
        "duplicate_count = data.duplicated().sum()\n",
        "print(f\"Jumlah baris duplikat: {duplicate_count}\")"
      ]
    },
    {
      "cell_type": "code",
      "execution_count": 17,
      "metadata": {
        "colab": {
          "base_uri": "https://localhost:8080/"
        },
        "id": "c2MinqfwZcF8",
        "outputId": "91aa0d52-72b8-4cba-e9fd-fac4ed0564a3"
      },
      "outputs": [
        {
          "output_type": "stream",
          "name": "stdout",
          "text": [
            "Baris yang duplikat:\n",
            "              Nama Pasien Jenis Kelamin  Berat Badan  Tinggi Badan  \\\n",
            "269              RINDUWAN     LAKI-LAKI         56.0         150.0   \n",
            "382                NGATMI     PEREMPUAN         55.0         155.0   \n",
            "383               TUGIMAN     LAKI-LAKI         60.0         155.0   \n",
            "384              SURATMAN     LAKI-LAKI         55.0         155.0   \n",
            "385          NUR FITRIANI     PEREMPUAN         55.0         155.0   \n",
            "...                   ...           ...          ...           ...   \n",
            "809   DEWI WAHYU SALINDRI     PEREMPUAN         64.0         162.0   \n",
            "834              SULASTRI     PEREMPUAN         59.0         153.0   \n",
            "847              MISTIARI     PEREMPUAN         55.0         158.0   \n",
            "853           ANUTIA SARI     PEREMPUAN         56.0         157.0   \n",
            "1112   HARSO WIYONO PARSO     LAKI-LAKI         60.0         165.0   \n",
            "\n",
            "      Lingkar Perut  Tekanan Darah Sistolik  Tekanan Darah Diastolik  \\\n",
            "269            65.0                    90.0                     60.0   \n",
            "382            65.0                    90.0                     60.0   \n",
            "383            76.0                    90.0                     60.0   \n",
            "384            76.0                    90.0                     60.0   \n",
            "385            65.0                    90.0                     60.0   \n",
            "...             ...                     ...                      ...   \n",
            "809            80.0                    89.0                     74.0   \n",
            "834            84.0                   103.0                     62.0   \n",
            "847            89.0                    89.0                     70.0   \n",
            "853            80.0                   117.0                     85.0   \n",
            "1112           71.0                   120.0                     80.0   \n",
            "\n",
            "     Risiko Merokok Kurang Aktivitas Fisik Gula Berlebihan Garam Berlebihan  \\\n",
            "269              YA                  TIDAK           TIDAK            TIDAK   \n",
            "382           TIDAK                  TIDAK           TIDAK            TIDAK   \n",
            "383           TIDAK                  TIDAK           TIDAK            TIDAK   \n",
            "384              YA                  TIDAK           TIDAK            TIDAK   \n",
            "385           TIDAK                  TIDAK           TIDAK            TIDAK   \n",
            "...             ...                    ...             ...              ...   \n",
            "809           TIDAK                  TIDAK           TIDAK            TIDAK   \n",
            "834           TIDAK                  TIDAK           TIDAK            TIDAK   \n",
            "847           TIDAK                  TIDAK           TIDAK            TIDAK   \n",
            "853           TIDAK                  TIDAK           TIDAK            TIDAK   \n",
            "1112          TIDAK                  TIDAK           TIDAK            TIDAK   \n",
            "\n",
            "     Lemak Berlebihan Kurang Makan Buah dan Sayur Konsumsi Alkohol  \\\n",
            "269             TIDAK                       TIDAK            TIDAK   \n",
            "382             TIDAK                       TIDAK            TIDAK   \n",
            "383             TIDAK                       TIDAK            TIDAK   \n",
            "384             TIDAK                       TIDAK            TIDAK   \n",
            "385             TIDAK                       TIDAK            TIDAK   \n",
            "...               ...                         ...              ...   \n",
            "809             TIDAK                       TIDAK            TIDAK   \n",
            "834             TIDAK                       TIDAK            TIDAK   \n",
            "847             TIDAK                       TIDAK            TIDAK   \n",
            "853             TIDAK                       TIDAK            TIDAK   \n",
            "1112            TIDAK                       TIDAK            TIDAK   \n",
            "\n",
            "     Status Hipertensi  \n",
            "269             NORMAL  \n",
            "382             NORMAL  \n",
            "383             NORMAL  \n",
            "384             NORMAL  \n",
            "385             NORMAL  \n",
            "...                ...  \n",
            "809             NORMAL  \n",
            "834             NORMAL  \n",
            "847             NORMAL  \n",
            "853             NORMAL  \n",
            "1112            NORMAL  \n",
            "\n",
            "[203 rows x 15 columns]\n"
          ]
        }
      ],
      "source": [
        "if duplicate_count > 0:\n",
        "    duplicates = data[data.duplicated()]\n",
        "    print(\"Baris yang duplikat:\")\n",
        "    print(duplicates)"
      ]
    },
    {
      "cell_type": "code",
      "execution_count": 18,
      "metadata": {
        "id": "sfEFveXlCszt"
      },
      "outputs": [],
      "source": [
        "# Menghapus baris duplikat\n",
        "data.drop_duplicates(inplace=True)"
      ]
    },
    {
      "cell_type": "code",
      "execution_count": 19,
      "metadata": {
        "colab": {
          "base_uri": "https://localhost:8080/"
        },
        "id": "oJydZyz0DBpx",
        "outputId": "ca9ab385-ea21-411f-89bd-701960ad9acb"
      },
      "outputs": [
        {
          "output_type": "stream",
          "name": "stdout",
          "text": [
            "Jumlah baris setelah duplikat dihapus: 901\n"
          ]
        }
      ],
      "source": [
        "# Verifikasi setelah penghapusan\n",
        "print(\"Jumlah baris setelah duplikat dihapus:\", len(data))"
      ]
    },
    {
      "cell_type": "markdown",
      "metadata": {
        "id": "vbTVGphULwrt"
      },
      "source": [
        "## **Imbalance**"
      ]
    },
    {
      "cell_type": "code",
      "execution_count": 20,
      "metadata": {
        "colab": {
          "base_uri": "https://localhost:8080/"
        },
        "id": "tQNwVMFeL69e",
        "outputId": "407b57d8-6e97-4fc2-9b84-6c1fd34b59c5"
      },
      "outputs": [
        {
          "output_type": "stream",
          "name": "stdout",
          "text": [
            "Jumlah data:\n",
            "Status Hipertensi\n",
            "NORMAL        722\n",
            "HIPERTENSI    179\n",
            "Name: count, dtype: int64\n"
          ]
        }
      ],
      "source": [
        "# Display the counts of each class in the 'Status Hipertensi' column before oversampling\n",
        "print(\"Jumlah data:\")\n",
        "print(data['Status Hipertensi'].value_counts())\n"
      ]
    },
    {
      "cell_type": "markdown",
      "metadata": {
        "id": "f7PrF0IZflNB"
      },
      "source": [
        "## **Feature Encoding**"
      ]
    },
    {
      "cell_type": "code",
      "execution_count": 21,
      "metadata": {
        "colab": {
          "base_uri": "https://localhost:8080/"
        },
        "id": "k2B7ZQAT1vle",
        "outputId": "900cf00b-6250-418f-cb85-31c6a0fe56ad"
      },
      "outputs": [
        {
          "output_type": "stream",
          "name": "stdout",
          "text": [
            "\n",
            "Data setelah Transformasi:\n",
            "      Jenis Kelamin  Berat Badan  Tinggi Badan  Lingkar Perut  \\\n",
            "0                 1         54.0         150.0           79.0   \n",
            "1                 0         61.0         172.0           83.0   \n",
            "2                 1         82.0         153.0          100.0   \n",
            "3                 0         46.0         157.0           70.0   \n",
            "4                 1         55.0         155.0           80.0   \n",
            "...             ...          ...           ...            ...   \n",
            "1127              0         50.0         150.0           80.0   \n",
            "1128              1         50.0         155.0           71.0   \n",
            "1129              0         45.0         160.0           68.0   \n",
            "1130              1         60.0         157.0           82.0   \n",
            "1131              1         48.0         155.0           75.0   \n",
            "\n",
            "      Tekanan Darah Sistolik  Tekanan Darah Diastolik  Risiko Merokok  \\\n",
            "0                      110.0                     78.0               0   \n",
            "1                      141.0                    120.0               1   \n",
            "2                      155.0                     97.0               0   \n",
            "3                      120.0                     72.0               1   \n",
            "4                      119.0                     79.0               0   \n",
            "...                      ...                      ...             ...   \n",
            "1127                   130.0                     80.0               0   \n",
            "1128                   120.0                     80.0               0   \n",
            "1129                   110.0                     60.0               0   \n",
            "1130                   112.0                     78.0               0   \n",
            "1131                   115.0                     75.0               0   \n",
            "\n",
            "      Kurang Aktivitas Fisik  Gula Berlebihan  Garam Berlebihan  \\\n",
            "0                          0                1                 0   \n",
            "1                          1                0                 0   \n",
            "2                          0                1                 1   \n",
            "3                          1                0                 1   \n",
            "4                          0                1                 0   \n",
            "...                      ...              ...               ...   \n",
            "1127                       0                0                 0   \n",
            "1128                       0                1                 0   \n",
            "1129                       0                0                 0   \n",
            "1130                       0                0                 0   \n",
            "1131                       1                0                 0   \n",
            "\n",
            "      Lemak Berlebihan  Kurang Makan Buah dan Sayur  Konsumsi Alkohol  \\\n",
            "0                    0                            1                 0   \n",
            "1                    0                            1                 1   \n",
            "2                    1                            0                 0   \n",
            "3                    1                            0                 1   \n",
            "4                    0                            0                 0   \n",
            "...                ...                          ...               ...   \n",
            "1127                 0                            0                 0   \n",
            "1128                 0                            0                 0   \n",
            "1129                 0                            1                 0   \n",
            "1130                 0                            0                 0   \n",
            "1131                 0                            0                 0   \n",
            "\n",
            "      Status Hipertensi  \n",
            "0                     0  \n",
            "1                     1  \n",
            "2                     1  \n",
            "3                     0  \n",
            "4                     0  \n",
            "...                 ...  \n",
            "1127                  0  \n",
            "1128                  0  \n",
            "1129                  0  \n",
            "1130                  0  \n",
            "1131                  0  \n",
            "\n",
            "[901 rows x 14 columns]\n"
          ]
        },
        {
          "output_type": "stream",
          "name": "stderr",
          "text": [
            "<ipython-input-21-3f6abca8130a>:15: FutureWarning: Downcasting behavior in `replace` is deprecated and will be removed in a future version. To retain the old behavior, explicitly call `result.infer_objects(copy=False)`. To opt-in to the future behavior, set `pd.set_option('future.no_silent_downcasting', True)`\n",
            "  data.replace(encoding_dict, inplace=True)\n"
          ]
        }
      ],
      "source": [
        "# Mapping encoding untuk variabel kategorik\n",
        "encoding_dict = {\n",
        "    'Jenis Kelamin': {'LAKI-LAKI': 0, 'PEREMPUAN': 1},\n",
        "    'Risiko Merokok': {'TIDAK': 0, 'YA': 1},\n",
        "    'Kurang Aktivitas Fisik': {'TIDAK': 0, 'YA': 1},\n",
        "    'Gula Berlebihan': {'TIDAK': 0, 'YA': 1},\n",
        "    'Garam Berlebihan': {'TIDAK': 0, 'YA': 1},\n",
        "    'Lemak Berlebihan': {'TIDAK': 0, 'YA': 1},\n",
        "    'Kurang Makan Buah dan Sayur': {'TIDAK': 0, 'YA': 1},\n",
        "    'Konsumsi Alkohol': {'TIDAK': 0, 'YA': 1},\n",
        "    'Status Hipertensi': {'NORMAL': 0, 'HIPERTENSI': 1}\n",
        "}\n",
        "\n",
        "# Melakukan encoding\n",
        "data.replace(encoding_dict, inplace=True)\n",
        "\n",
        "# Menghapus kolom yang tidak diperlukan\n",
        "data.drop(columns=['Nama Pasien'], inplace=True, errors='ignore')\n",
        "\n",
        "print(\"\\nData setelah Transformasi:\")\n",
        "print(data)"
      ]
    },
    {
      "cell_type": "code",
      "source": [
        "# Menyimpan data yang telah ditransformasi ke Google Drive\n",
        "file_path = '/content/drive/MyDrive/Skripsi/Data Hasil Transformasi.csv'\n",
        "data.to_csv(file_path, index=False)\n",
        "\n",
        "print(f\"\\nData telah disimpan ke Google Drive dengan nama file: {file_path}\")"
      ],
      "metadata": {
        "colab": {
          "base_uri": "https://localhost:8080/"
        },
        "id": "1Jaq96_Bihkl",
        "outputId": "55593e06-0685-4690-923d-1fa54559e1c5"
      },
      "execution_count": 22,
      "outputs": [
        {
          "output_type": "stream",
          "name": "stdout",
          "text": [
            "\n",
            "Data telah disimpan ke Google Drive dengan nama file: /content/drive/MyDrive/Skripsi/Data Hasil Transformasi.csv\n"
          ]
        }
      ]
    },
    {
      "cell_type": "code",
      "source": [
        "# Menampilkan 30 data terdepan\n",
        "print(\"\\n30 Data Terdepan:\")\n",
        "print(data.head(30))\n",
        "\n",
        "# Menampilkan 5 data terakhir\n",
        "print(\"\\n5 Data Terbelakang:\")\n",
        "print(data.tail(5))"
      ],
      "metadata": {
        "colab": {
          "base_uri": "https://localhost:8080/"
        },
        "id": "kvbEPXtTi_ei",
        "outputId": "27dac7f6-6317-448d-a65d-518c1c43c9e8"
      },
      "execution_count": 23,
      "outputs": [
        {
          "output_type": "stream",
          "name": "stdout",
          "text": [
            "\n",
            "30 Data Terdepan:\n",
            "    Jenis Kelamin  Berat Badan  Tinggi Badan  Lingkar Perut  \\\n",
            "0               1         54.0         150.0           79.0   \n",
            "1               0         61.0         172.0           83.0   \n",
            "2               1         82.0         153.0          100.0   \n",
            "3               0         46.0         157.0           70.0   \n",
            "4               1         55.0         155.0           80.0   \n",
            "5               0         75.0         165.0           99.0   \n",
            "6               1         60.0         160.0           80.0   \n",
            "7               1         55.0         160.0           80.0   \n",
            "8               1         49.0         154.0           80.0   \n",
            "9               0        108.0         168.0          100.0   \n",
            "10              1         56.0         157.0           80.0   \n",
            "11              1         47.0         155.0           80.0   \n",
            "12              0         63.0         160.0           90.0   \n",
            "13              1         73.0         158.0           87.0   \n",
            "14              1         65.0         168.0           80.0   \n",
            "15              0         47.0         167.0           90.0   \n",
            "16              1         64.0         162.0           80.0   \n",
            "17              1         78.0         155.0           90.0   \n",
            "18              1         70.0         153.0           90.0   \n",
            "19              1         61.0         155.0           89.0   \n",
            "20              1         54.0         155.0           80.0   \n",
            "21              1         78.0         162.0           90.0   \n",
            "22              0         78.0         155.0           90.0   \n",
            "23              1         49.0         156.0           80.0   \n",
            "24              1         42.0         150.0           80.0   \n",
            "25              1         60.0         149.0           90.0   \n",
            "26              0         60.0         160.0           80.0   \n",
            "27              1         58.0         156.0           80.0   \n",
            "28              1         50.0         150.0           80.0   \n",
            "29              1         38.0         152.0           74.0   \n",
            "\n",
            "    Tekanan Darah Sistolik  Tekanan Darah Diastolik  Risiko Merokok  \\\n",
            "0                    110.0                     78.0               0   \n",
            "1                    141.0                    120.0               1   \n",
            "2                    155.0                     97.0               0   \n",
            "3                    120.0                     72.0               1   \n",
            "4                    119.0                     79.0               0   \n",
            "5                    189.0                     97.0               1   \n",
            "6                    109.0                     78.0               0   \n",
            "7                    122.0                     78.0               0   \n",
            "8                    101.0                     75.0               0   \n",
            "9                    136.0                     91.0               1   \n",
            "10                   117.0                     85.0               0   \n",
            "11                   128.0                     81.0               0   \n",
            "12                   128.0                     68.0               1   \n",
            "13                   129.0                     70.0               0   \n",
            "14                   125.0                     90.0               0   \n",
            "15                   119.0                     77.0               1   \n",
            "16                    89.0                     74.0               0   \n",
            "17                   121.0                     74.0               0   \n",
            "18                   124.0                     77.0               0   \n",
            "19                   133.0                     84.0               0   \n",
            "20                   115.0                     75.0               0   \n",
            "21                   128.0                     79.0               0   \n",
            "22                   121.0                     74.0               1   \n",
            "23                   130.0                     81.0               0   \n",
            "24                   109.0                     56.0               0   \n",
            "25                   126.0                     84.0               0   \n",
            "26                   110.0                     77.0               0   \n",
            "27                   100.0                     76.0               0   \n",
            "28                   140.0                     89.0               0   \n",
            "29                   105.0                     75.0               0   \n",
            "\n",
            "    Kurang Aktivitas Fisik  Gula Berlebihan  Garam Berlebihan  \\\n",
            "0                        0                1                 0   \n",
            "1                        1                0                 0   \n",
            "2                        0                1                 1   \n",
            "3                        1                0                 1   \n",
            "4                        0                1                 0   \n",
            "5                        0                0                 0   \n",
            "6                        0                0                 0   \n",
            "7                        1                0                 0   \n",
            "8                        0                0                 1   \n",
            "9                        0                0                 0   \n",
            "10                       0                0                 0   \n",
            "11                       0                0                 0   \n",
            "12                       0                0                 0   \n",
            "13                       0                0                 0   \n",
            "14                       0                1                 0   \n",
            "15                       0                0                 0   \n",
            "16                       0                0                 0   \n",
            "17                       1                0                 0   \n",
            "18                       0                0                 0   \n",
            "19                       0                0                 0   \n",
            "20                       0                0                 0   \n",
            "21                       0                0                 1   \n",
            "22                       0                0                 0   \n",
            "23                       0                0                 0   \n",
            "24                       0                0                 0   \n",
            "25                       0                0                 0   \n",
            "26                       0                0                 0   \n",
            "27                       0                0                 0   \n",
            "28                       1                0                 0   \n",
            "29                       0                0                 0   \n",
            "\n",
            "    Lemak Berlebihan  Kurang Makan Buah dan Sayur  Konsumsi Alkohol  \\\n",
            "0                  0                            1                 0   \n",
            "1                  0                            1                 1   \n",
            "2                  1                            0                 0   \n",
            "3                  1                            0                 1   \n",
            "4                  0                            0                 0   \n",
            "5                  0                            0                 1   \n",
            "6                  0                            0                 0   \n",
            "7                  0                            0                 0   \n",
            "8                  0                            0                 0   \n",
            "9                  0                            0                 0   \n",
            "10                 0                            0                 0   \n",
            "11                 1                            0                 0   \n",
            "12                 0                            0                 0   \n",
            "13                 0                            0                 0   \n",
            "14                 0                            1                 0   \n",
            "15                 0                            0                 0   \n",
            "16                 0                            0                 0   \n",
            "17                 0                            0                 0   \n",
            "18                 0                            0                 0   \n",
            "19                 0                            0                 0   \n",
            "20                 0                            0                 0   \n",
            "21                 0                            0                 0   \n",
            "22                 0                            0                 0   \n",
            "23                 0                            0                 0   \n",
            "24                 0                            0                 0   \n",
            "25                 0                            0                 0   \n",
            "26                 0                            0                 0   \n",
            "27                 0                            0                 0   \n",
            "28                 0                            1                 0   \n",
            "29                 0                            0                 0   \n",
            "\n",
            "    Status Hipertensi  \n",
            "0                   0  \n",
            "1                   1  \n",
            "2                   1  \n",
            "3                   0  \n",
            "4                   0  \n",
            "5                   1  \n",
            "6                   0  \n",
            "7                   0  \n",
            "8                   0  \n",
            "9                   0  \n",
            "10                  0  \n",
            "11                  0  \n",
            "12                  0  \n",
            "13                  0  \n",
            "14                  0  \n",
            "15                  0  \n",
            "16                  0  \n",
            "17                  0  \n",
            "18                  0  \n",
            "19                  0  \n",
            "20                  0  \n",
            "21                  0  \n",
            "22                  0  \n",
            "23                  0  \n",
            "24                  0  \n",
            "25                  0  \n",
            "26                  0  \n",
            "27                  0  \n",
            "28                  1  \n",
            "29                  0  \n",
            "\n",
            "5 Data Terbelakang:\n",
            "      Jenis Kelamin  Berat Badan  Tinggi Badan  Lingkar Perut  \\\n",
            "1127              0         50.0         150.0           80.0   \n",
            "1128              1         50.0         155.0           71.0   \n",
            "1129              0         45.0         160.0           68.0   \n",
            "1130              1         60.0         157.0           82.0   \n",
            "1131              1         48.0         155.0           75.0   \n",
            "\n",
            "      Tekanan Darah Sistolik  Tekanan Darah Diastolik  Risiko Merokok  \\\n",
            "1127                   130.0                     80.0               0   \n",
            "1128                   120.0                     80.0               0   \n",
            "1129                   110.0                     60.0               0   \n",
            "1130                   112.0                     78.0               0   \n",
            "1131                   115.0                     75.0               0   \n",
            "\n",
            "      Kurang Aktivitas Fisik  Gula Berlebihan  Garam Berlebihan  \\\n",
            "1127                       0                0                 0   \n",
            "1128                       0                1                 0   \n",
            "1129                       0                0                 0   \n",
            "1130                       0                0                 0   \n",
            "1131                       1                0                 0   \n",
            "\n",
            "      Lemak Berlebihan  Kurang Makan Buah dan Sayur  Konsumsi Alkohol  \\\n",
            "1127                 0                            0                 0   \n",
            "1128                 0                            0                 0   \n",
            "1129                 0                            1                 0   \n",
            "1130                 0                            0                 0   \n",
            "1131                 0                            0                 0   \n",
            "\n",
            "      Status Hipertensi  \n",
            "1127                  0  \n",
            "1128                  0  \n",
            "1129                  0  \n",
            "1130                  0  \n",
            "1131                  0  \n"
          ]
        }
      ]
    },
    {
      "cell_type": "markdown",
      "metadata": {
        "id": "RMCGiFKb7E_H"
      },
      "source": [
        "# **Metode**"
      ]
    },
    {
      "cell_type": "code",
      "execution_count": 24,
      "metadata": {
        "id": "6fWNy15h1QGR"
      },
      "outputs": [],
      "source": [
        "# Import Library\n",
        "import pandas as pd\n",
        "import numpy as np\n",
        "from google.colab import drive\n",
        "from sklearn.model_selection import train_test_split\n",
        "from sklearn.naive_bayes import GaussianNB\n",
        "from sklearn.metrics import confusion_matrix, accuracy_score, classification_report"
      ]
    },
    {
      "cell_type": "code",
      "execution_count": 25,
      "metadata": {
        "colab": {
          "base_uri": "https://localhost:8080/"
        },
        "id": "Nx-4iRDG1yLP",
        "outputId": "ee1dbac0-c44e-4067-b35c-1e4ddd002a7a"
      },
      "outputs": [
        {
          "output_type": "stream",
          "name": "stdout",
          "text": [
            "      Jenis Kelamin  Berat Badan  Tinggi Badan  Lingkar Perut  \\\n",
            "0                 1         54.0         150.0           79.0   \n",
            "1                 0         61.0         172.0           83.0   \n",
            "2                 1         82.0         153.0          100.0   \n",
            "3                 0         46.0         157.0           70.0   \n",
            "4                 1         55.0         155.0           80.0   \n",
            "...             ...          ...           ...            ...   \n",
            "1127              0         50.0         150.0           80.0   \n",
            "1128              1         50.0         155.0           71.0   \n",
            "1129              0         45.0         160.0           68.0   \n",
            "1130              1         60.0         157.0           82.0   \n",
            "1131              1         48.0         155.0           75.0   \n",
            "\n",
            "      Tekanan Darah Sistolik  Tekanan Darah Diastolik  Risiko Merokok  \\\n",
            "0                      110.0                     78.0               0   \n",
            "1                      141.0                    120.0               1   \n",
            "2                      155.0                     97.0               0   \n",
            "3                      120.0                     72.0               1   \n",
            "4                      119.0                     79.0               0   \n",
            "...                      ...                      ...             ...   \n",
            "1127                   130.0                     80.0               0   \n",
            "1128                   120.0                     80.0               0   \n",
            "1129                   110.0                     60.0               0   \n",
            "1130                   112.0                     78.0               0   \n",
            "1131                   115.0                     75.0               0   \n",
            "\n",
            "      Kurang Aktivitas Fisik  Gula Berlebihan  Garam Berlebihan  \\\n",
            "0                          0                1                 0   \n",
            "1                          1                0                 0   \n",
            "2                          0                1                 1   \n",
            "3                          1                0                 1   \n",
            "4                          0                1                 0   \n",
            "...                      ...              ...               ...   \n",
            "1127                       0                0                 0   \n",
            "1128                       0                1                 0   \n",
            "1129                       0                0                 0   \n",
            "1130                       0                0                 0   \n",
            "1131                       1                0                 0   \n",
            "\n",
            "      Lemak Berlebihan  Kurang Makan Buah dan Sayur  Konsumsi Alkohol  \\\n",
            "0                    0                            1                 0   \n",
            "1                    0                            1                 1   \n",
            "2                    1                            0                 0   \n",
            "3                    1                            0                 1   \n",
            "4                    0                            0                 0   \n",
            "...                ...                          ...               ...   \n",
            "1127                 0                            0                 0   \n",
            "1128                 0                            0                 0   \n",
            "1129                 0                            1                 0   \n",
            "1130                 0                            0                 0   \n",
            "1131                 0                            0                 0   \n",
            "\n",
            "      Status Hipertensi  \n",
            "0                     0  \n",
            "1                     1  \n",
            "2                     1  \n",
            "3                     0  \n",
            "4                     0  \n",
            "...                 ...  \n",
            "1127                  0  \n",
            "1128                  0  \n",
            "1129                  0  \n",
            "1130                  0  \n",
            "1131                  0  \n",
            "\n",
            "[901 rows x 14 columns]\n"
          ]
        }
      ],
      "source": [
        "# Menampilkan data\n",
        "print(data)"
      ]
    },
    {
      "cell_type": "code",
      "source": [
        "# Menampilkan informasi data\n",
        "data.info()"
      ],
      "metadata": {
        "colab": {
          "base_uri": "https://localhost:8080/"
        },
        "id": "rlDma3FsEtgn",
        "outputId": "f639df3c-6427-49ad-ed15-e9a2193a48c0"
      },
      "execution_count": 26,
      "outputs": [
        {
          "output_type": "stream",
          "name": "stdout",
          "text": [
            "<class 'pandas.core.frame.DataFrame'>\n",
            "Index: 901 entries, 0 to 1131\n",
            "Data columns (total 14 columns):\n",
            " #   Column                       Non-Null Count  Dtype  \n",
            "---  ------                       --------------  -----  \n",
            " 0   Jenis Kelamin                901 non-null    int64  \n",
            " 1   Berat Badan                  901 non-null    float64\n",
            " 2   Tinggi Badan                 901 non-null    float64\n",
            " 3   Lingkar Perut                901 non-null    float64\n",
            " 4   Tekanan Darah Sistolik       901 non-null    float64\n",
            " 5   Tekanan Darah Diastolik      901 non-null    float64\n",
            " 6   Risiko Merokok               901 non-null    int64  \n",
            " 7   Kurang Aktivitas Fisik       901 non-null    int64  \n",
            " 8   Gula Berlebihan              901 non-null    int64  \n",
            " 9   Garam Berlebihan             901 non-null    int64  \n",
            " 10  Lemak Berlebihan             901 non-null    int64  \n",
            " 11  Kurang Makan Buah dan Sayur  901 non-null    int64  \n",
            " 12  Konsumsi Alkohol             901 non-null    int64  \n",
            " 13  Status Hipertensi            901 non-null    int64  \n",
            "dtypes: float64(5), int64(9)\n",
            "memory usage: 105.6 KB\n"
          ]
        }
      ]
    },
    {
      "cell_type": "code",
      "source": [
        "# Variabel independen\n",
        "x = data.drop(['Status Hipertensi'], axis=1)\n",
        "print(x)"
      ],
      "metadata": {
        "colab": {
          "base_uri": "https://localhost:8080/"
        },
        "id": "PZhnw7-WE8vl",
        "outputId": "c4131038-42b5-4e91-ea0b-2e40394e303a"
      },
      "execution_count": 27,
      "outputs": [
        {
          "output_type": "stream",
          "name": "stdout",
          "text": [
            "      Jenis Kelamin  Berat Badan  Tinggi Badan  Lingkar Perut  \\\n",
            "0                 1         54.0         150.0           79.0   \n",
            "1                 0         61.0         172.0           83.0   \n",
            "2                 1         82.0         153.0          100.0   \n",
            "3                 0         46.0         157.0           70.0   \n",
            "4                 1         55.0         155.0           80.0   \n",
            "...             ...          ...           ...            ...   \n",
            "1127              0         50.0         150.0           80.0   \n",
            "1128              1         50.0         155.0           71.0   \n",
            "1129              0         45.0         160.0           68.0   \n",
            "1130              1         60.0         157.0           82.0   \n",
            "1131              1         48.0         155.0           75.0   \n",
            "\n",
            "      Tekanan Darah Sistolik  Tekanan Darah Diastolik  Risiko Merokok  \\\n",
            "0                      110.0                     78.0               0   \n",
            "1                      141.0                    120.0               1   \n",
            "2                      155.0                     97.0               0   \n",
            "3                      120.0                     72.0               1   \n",
            "4                      119.0                     79.0               0   \n",
            "...                      ...                      ...             ...   \n",
            "1127                   130.0                     80.0               0   \n",
            "1128                   120.0                     80.0               0   \n",
            "1129                   110.0                     60.0               0   \n",
            "1130                   112.0                     78.0               0   \n",
            "1131                   115.0                     75.0               0   \n",
            "\n",
            "      Kurang Aktivitas Fisik  Gula Berlebihan  Garam Berlebihan  \\\n",
            "0                          0                1                 0   \n",
            "1                          1                0                 0   \n",
            "2                          0                1                 1   \n",
            "3                          1                0                 1   \n",
            "4                          0                1                 0   \n",
            "...                      ...              ...               ...   \n",
            "1127                       0                0                 0   \n",
            "1128                       0                1                 0   \n",
            "1129                       0                0                 0   \n",
            "1130                       0                0                 0   \n",
            "1131                       1                0                 0   \n",
            "\n",
            "      Lemak Berlebihan  Kurang Makan Buah dan Sayur  Konsumsi Alkohol  \n",
            "0                    0                            1                 0  \n",
            "1                    0                            1                 1  \n",
            "2                    1                            0                 0  \n",
            "3                    1                            0                 1  \n",
            "4                    0                            0                 0  \n",
            "...                ...                          ...               ...  \n",
            "1127                 0                            0                 0  \n",
            "1128                 0                            0                 0  \n",
            "1129                 0                            1                 0  \n",
            "1130                 0                            0                 0  \n",
            "1131                 0                            0                 0  \n",
            "\n",
            "[901 rows x 13 columns]\n"
          ]
        }
      ]
    },
    {
      "cell_type": "code",
      "source": [
        "# Variabel dependen\n",
        "y = data['Status Hipertensi']\n",
        "print(y)"
      ],
      "metadata": {
        "colab": {
          "base_uri": "https://localhost:8080/"
        },
        "id": "gKjb4mdqE92F",
        "outputId": "f6d0a1ab-fa89-458d-ebf8-fa3b6fea0241"
      },
      "execution_count": 28,
      "outputs": [
        {
          "output_type": "stream",
          "name": "stdout",
          "text": [
            "0       0\n",
            "1       1\n",
            "2       1\n",
            "3       0\n",
            "4       0\n",
            "       ..\n",
            "1127    0\n",
            "1128    0\n",
            "1129    0\n",
            "1130    0\n",
            "1131    0\n",
            "Name: Status Hipertensi, Length: 901, dtype: int64\n"
          ]
        }
      ]
    },
    {
      "cell_type": "markdown",
      "source": [
        "### **Split Data**"
      ],
      "metadata": {
        "id": "-knGBwaXO5rN"
      }
    },
    {
      "cell_type": "code",
      "source": [
        "from sklearn.model_selection import train_test_split"
      ],
      "metadata": {
        "id": "TkMx4sC0FNaS"
      },
      "execution_count": 29,
      "outputs": []
    },
    {
      "cell_type": "code",
      "execution_count": 30,
      "metadata": {
        "id": "iZVmOA7bjTjL"
      },
      "outputs": [],
      "source": [
        "# Pembagian training dan testing set\n",
        "x_train, x_test, y_train, y_test = train_test_split(\n",
        "    x, y, test_size=0.1, random_state=0\n",
        ")"
      ]
    },
    {
      "cell_type": "code",
      "execution_count": 31,
      "metadata": {
        "colab": {
          "base_uri": "https://localhost:8080/"
        },
        "id": "4WKxVnahjwTr",
        "outputId": "cec4e25d-7e84-4002-9134-2c355e3da832"
      },
      "outputs": [
        {
          "output_type": "stream",
          "name": "stdout",
          "text": [
            "Jumlah data sebelum dibagi:\n",
            "Total data: 901\n",
            "Jumlah data training: 810\n",
            "Jumlah data testing: 91\n",
            "\n",
            "Data Training (x_train):\n",
            "      Jenis Kelamin  Berat Badan  Tinggi Badan  Lingkar Perut  \\\n",
            "27                1         58.0         156.0           80.0   \n",
            "896               1         62.0         161.0           80.0   \n",
            "30                1         69.0         155.0           85.0   \n",
            "538               0         66.0         170.0           80.0   \n",
            "1018              1         70.0         167.0           99.0   \n",
            "\n",
            "      Tekanan Darah Sistolik  Tekanan Darah Diastolik  Risiko Merokok  \\\n",
            "27                     100.0                     76.0               0   \n",
            "896                     91.0                     70.0               0   \n",
            "30                     112.0                     78.0               0   \n",
            "538                    110.0                     80.0               0   \n",
            "1018                   114.0                     65.0               0   \n",
            "\n",
            "      Kurang Aktivitas Fisik  Gula Berlebihan  Garam Berlebihan  \\\n",
            "27                         0                0                 0   \n",
            "896                        0                0                 0   \n",
            "30                         0                0                 1   \n",
            "538                        0                0                 0   \n",
            "1018                       0                0                 0   \n",
            "\n",
            "      Lemak Berlebihan  Kurang Makan Buah dan Sayur  Konsumsi Alkohol  \n",
            "27                   0                            0                 0  \n",
            "896                  0                            0                 0  \n",
            "30                   0                            0                 0  \n",
            "538                  0                            0                 0  \n",
            "1018                 0                            0                 0  \n",
            "\n",
            "Data Testing (x_test):\n",
            "     Jenis Kelamin  Berat Badan  Tinggi Badan  Lingkar Perut  \\\n",
            "60               1         78.0         154.0           85.0   \n",
            "344              1         50.0         155.0           80.0   \n",
            "945              1         66.0         155.0           80.0   \n",
            "850              1         46.0         156.0           80.0   \n",
            "731              1         37.0         159.0           99.0   \n",
            "\n",
            "     Tekanan Darah Sistolik  Tekanan Darah Diastolik  Risiko Merokok  \\\n",
            "60                    131.0                     86.0               0   \n",
            "344                   113.0                     80.0               0   \n",
            "945                   130.0                     85.0               0   \n",
            "850                   120.0                     80.0               0   \n",
            "731                   112.0                     75.0               0   \n",
            "\n",
            "     Kurang Aktivitas Fisik  Gula Berlebihan  Garam Berlebihan  \\\n",
            "60                        0                0                 0   \n",
            "344                       0                0                 0   \n",
            "945                       0                0                 0   \n",
            "850                       0                0                 0   \n",
            "731                       0                0                 0   \n",
            "\n",
            "     Lemak Berlebihan  Kurang Makan Buah dan Sayur  Konsumsi Alkohol  \n",
            "60                  0                            0                 0  \n",
            "344                 0                            0                 0  \n",
            "945                 0                            0                 0  \n",
            "850                 0                            0                 0  \n",
            "731                 0                            0                 0  \n",
            "\n",
            "Target Training (y_train):\n",
            "27      0\n",
            "896     0\n",
            "30      0\n",
            "538     0\n",
            "1018    0\n",
            "Name: Status Hipertensi, dtype: int64\n",
            "\n",
            "Target Testing (y_test):\n",
            "60     0\n",
            "344    0\n",
            "945    0\n",
            "850    0\n",
            "731    0\n",
            "Name: Status Hipertensi, dtype: int64\n"
          ]
        }
      ],
      "source": [
        "# Menampilkan jumlah data\n",
        "print(\"Jumlah data sebelum dibagi:\")\n",
        "print(\"Total data:\", len(data))\n",
        "print(\"Jumlah data training:\", len(x_train))\n",
        "print(\"Jumlah data testing:\", len(x_test))\n",
        "\n",
        "# Menampilkan data training dan testing\n",
        "print(\"\\nData Training (x_train):\")\n",
        "print(x_train.head())  # Menampilkan 5 baris pertama dari data training\n",
        "\n",
        "print(\"\\nData Testing (x_test):\")\n",
        "print(x_test.head())   # Menampilkan 5 baris pertama dari data testing\n",
        "\n",
        "print(\"\\nTarget Training (y_train):\")\n",
        "print(y_train.head())  # Menampilkan 5 baris pertama dari target training\n",
        "\n",
        "print(\"\\nTarget Testing (y_test):\")\n",
        "print(y_test.head())   # Menampilkan 5 baris pertama dari target testing"
      ]
    },
    {
      "cell_type": "code",
      "source": [
        "# Menggabungkan Fitur dan Target dalam Data Training dan Testing\n",
        "data_train = pd.concat([x_train, y_train], axis=1)\n",
        "data_test = pd.concat([x_test, y_test], axis=1)\n",
        "\n",
        "# Menyimpan Data Training dan Testing ke Google Drive\n",
        "data_train.to_csv('/content/drive/MyDrive/Skripsi/Aslii Train.csv', index=False)\n",
        "data_test.to_csv('/content/drive/MyDrive/Skripsi/Aslii Test.csv', index=False)\n",
        "\n",
        "# Menampilkan jumlah data train dan test\n",
        "print(\"Jumlah data training:\", data_train.shape[0])\n",
        "print(\"Jumlah data testing:\", data_test.shape[0])\n",
        "\n",
        "print(\"Data training dan testing telah disimpan ke Google Drive.\")"
      ],
      "metadata": {
        "colab": {
          "base_uri": "https://localhost:8080/"
        },
        "id": "9eAM68qBWA8v",
        "outputId": "edd39e99-d902-4e6c-a9d4-9fe2338ee1c2"
      },
      "execution_count": 32,
      "outputs": [
        {
          "output_type": "stream",
          "name": "stdout",
          "text": [
            "Jumlah data training: 810\n",
            "Jumlah data testing: 91\n",
            "Data training dan testing telah disimpan ke Google Drive.\n"
          ]
        }
      ]
    },
    {
      "cell_type": "code",
      "source": [
        "# Menampilkan 10 data terdepan dan 2 data terakhir untuk data training\n",
        "print(\"\\n10 Data terdepan - Data Training:\")\n",
        "print(data_train.head(10))\n",
        "\n",
        "print(\"\\n2 Data terakhir - Data Training:\")\n",
        "print(data_train.tail(2))"
      ],
      "metadata": {
        "colab": {
          "base_uri": "https://localhost:8080/"
        },
        "id": "Oxt1kbUOf2IQ",
        "outputId": "26465802-16b8-4bd4-e913-a5c48b136187"
      },
      "execution_count": 33,
      "outputs": [
        {
          "output_type": "stream",
          "name": "stdout",
          "text": [
            "\n",
            "10 Data terdepan - Data Training:\n",
            "      Jenis Kelamin  Berat Badan  Tinggi Badan  Lingkar Perut  \\\n",
            "27                1         58.0         156.0           80.0   \n",
            "896               1         62.0         161.0           80.0   \n",
            "30                1         69.0         155.0           85.0   \n",
            "538               0         66.0         170.0           80.0   \n",
            "1018              1         70.0         167.0           99.0   \n",
            "718               0         75.0         165.0           85.0   \n",
            "1000              1         72.0         155.0           99.0   \n",
            "952               1         55.0         155.0           80.0   \n",
            "720               0         60.0         165.0           69.0   \n",
            "859               1         53.0         150.0           85.0   \n",
            "\n",
            "      Tekanan Darah Sistolik  Tekanan Darah Diastolik  Risiko Merokok  \\\n",
            "27                     100.0                     76.0               0   \n",
            "896                     91.0                     70.0               0   \n",
            "30                     112.0                     78.0               0   \n",
            "538                    110.0                     80.0               0   \n",
            "1018                   114.0                     65.0               0   \n",
            "718                    125.0                     75.0               0   \n",
            "1000                   119.0                     74.0               0   \n",
            "952                    157.0                     96.0               0   \n",
            "720                    120.0                     70.0               0   \n",
            "859                     86.0                     63.0               0   \n",
            "\n",
            "      Kurang Aktivitas Fisik  Gula Berlebihan  Garam Berlebihan  \\\n",
            "27                         0                0                 0   \n",
            "896                        0                0                 0   \n",
            "30                         0                0                 1   \n",
            "538                        0                0                 0   \n",
            "1018                       0                0                 0   \n",
            "718                        0                0                 0   \n",
            "1000                       0                0                 0   \n",
            "952                        0                0                 0   \n",
            "720                        0                0                 0   \n",
            "859                        0                0                 0   \n",
            "\n",
            "      Lemak Berlebihan  Kurang Makan Buah dan Sayur  Konsumsi Alkohol  \\\n",
            "27                   0                            0                 0   \n",
            "896                  0                            0                 0   \n",
            "30                   0                            0                 0   \n",
            "538                  0                            0                 0   \n",
            "1018                 0                            0                 0   \n",
            "718                  0                            0                 0   \n",
            "1000                 0                            0                 0   \n",
            "952                  0                            0                 0   \n",
            "720                  0                            0                 0   \n",
            "859                  0                            0                 0   \n",
            "\n",
            "      Status Hipertensi  \n",
            "27                    0  \n",
            "896                   0  \n",
            "30                    0  \n",
            "538                   0  \n",
            "1018                  0  \n",
            "718                   0  \n",
            "1000                  0  \n",
            "952                   1  \n",
            "720                   0  \n",
            "859                   0  \n",
            "\n",
            "2 Data terakhir - Data Training:\n",
            "     Jenis Kelamin  Berat Badan  Tinggi Badan  Lingkar Perut  \\\n",
            "766              0         60.0         165.0           71.0   \n",
            "901              0         55.0         160.0           80.0   \n",
            "\n",
            "     Tekanan Darah Sistolik  Tekanan Darah Diastolik  Risiko Merokok  \\\n",
            "766                   120.0                     80.0               0   \n",
            "901                   130.0                     80.0               0   \n",
            "\n",
            "     Kurang Aktivitas Fisik  Gula Berlebihan  Garam Berlebihan  \\\n",
            "766                       0                0                 0   \n",
            "901                       0                0                 0   \n",
            "\n",
            "     Lemak Berlebihan  Kurang Makan Buah dan Sayur  Konsumsi Alkohol  \\\n",
            "766                 0                            0                 0   \n",
            "901                 0                            0                 0   \n",
            "\n",
            "     Status Hipertensi  \n",
            "766                  0  \n",
            "901                  0  \n"
          ]
        }
      ]
    },
    {
      "cell_type": "code",
      "source": [
        "# Menampilkan 30 data terdepan dan 2 data terakhir untuk data testing\n",
        "print(\"\\n10 Data terdepan - Data Testing:\")\n",
        "print(data_test.head(10))\n",
        "\n",
        "print(\"\\n2 Data terakhir - Data Testing:\")\n",
        "print(data_test.tail(2))"
      ],
      "metadata": {
        "colab": {
          "base_uri": "https://localhost:8080/"
        },
        "id": "JAxcIvo2f_40",
        "outputId": "141dce01-6c8e-4a9b-aa02-b4aeb3327bc3"
      },
      "execution_count": 34,
      "outputs": [
        {
          "output_type": "stream",
          "name": "stdout",
          "text": [
            "\n",
            "10 Data terdepan - Data Testing:\n",
            "     Jenis Kelamin  Berat Badan  Tinggi Badan  Lingkar Perut  \\\n",
            "60               1         78.0         154.0           85.0   \n",
            "344              1         50.0         155.0           80.0   \n",
            "945              1         66.0         155.0           80.0   \n",
            "850              1         46.0         156.0           80.0   \n",
            "731              1         37.0         159.0           99.0   \n",
            "217              0         45.0         150.0           54.0   \n",
            "65               1         68.0         150.0           80.0   \n",
            "313              1         50.0         159.0           72.0   \n",
            "31               1         47.0         148.0           50.0   \n",
            "311              0         65.0         165.0           87.0   \n",
            "\n",
            "     Tekanan Darah Sistolik  Tekanan Darah Diastolik  Risiko Merokok  \\\n",
            "60                    131.0                     86.0               0   \n",
            "344                   113.0                     80.0               0   \n",
            "945                   130.0                     85.0               0   \n",
            "850                   120.0                     80.0               0   \n",
            "731                   112.0                     75.0               0   \n",
            "217                   100.0                     60.0               1   \n",
            "65                    126.0                     93.0               0   \n",
            "313                   130.0                     80.0               0   \n",
            "31                     98.0                     68.0               0   \n",
            "311                   127.0                     78.0               0   \n",
            "\n",
            "     Kurang Aktivitas Fisik  Gula Berlebihan  Garam Berlebihan  \\\n",
            "60                        0                0                 0   \n",
            "344                       0                0                 0   \n",
            "945                       0                0                 0   \n",
            "850                       0                0                 0   \n",
            "731                       0                0                 0   \n",
            "217                       0                0                 0   \n",
            "65                        0                0                 0   \n",
            "313                       0                0                 0   \n",
            "31                        0                0                 0   \n",
            "311                       0                0                 0   \n",
            "\n",
            "     Lemak Berlebihan  Kurang Makan Buah dan Sayur  Konsumsi Alkohol  \\\n",
            "60                  0                            0                 0   \n",
            "344                 0                            0                 0   \n",
            "945                 0                            0                 0   \n",
            "850                 0                            0                 0   \n",
            "731                 0                            0                 0   \n",
            "217                 0                            0                 0   \n",
            "65                  0                            0                 0   \n",
            "313                 0                            0                 0   \n",
            "31                  0                            0                 0   \n",
            "311                 0                            0                 0   \n",
            "\n",
            "     Status Hipertensi  \n",
            "60                   0  \n",
            "344                  0  \n",
            "945                  0  \n",
            "850                  0  \n",
            "731                  0  \n",
            "217                  0  \n",
            "65                   0  \n",
            "313                  0  \n",
            "31                   0  \n",
            "311                  0  \n",
            "\n",
            "2 Data terakhir - Data Testing:\n",
            "     Jenis Kelamin  Berat Badan  Tinggi Badan  Lingkar Perut  \\\n",
            "902              1         58.0         160.0           82.0   \n",
            "298              1         60.0         158.0           83.0   \n",
            "\n",
            "     Tekanan Darah Sistolik  Tekanan Darah Diastolik  Risiko Merokok  \\\n",
            "902                   117.0                     75.0               0   \n",
            "298                   120.0                     80.0               0   \n",
            "\n",
            "     Kurang Aktivitas Fisik  Gula Berlebihan  Garam Berlebihan  \\\n",
            "902                       0                0                 0   \n",
            "298                       0                0                 0   \n",
            "\n",
            "     Lemak Berlebihan  Kurang Makan Buah dan Sayur  Konsumsi Alkohol  \\\n",
            "902                 0                            0                 0   \n",
            "298                 0                            0                 0   \n",
            "\n",
            "     Status Hipertensi  \n",
            "902                  0  \n",
            "298                  0  \n"
          ]
        }
      ]
    },
    {
      "cell_type": "markdown",
      "source": [
        "## **Naive Bayes Classifier**"
      ],
      "metadata": {
        "id": "OqWp-BpEVOUE"
      }
    },
    {
      "cell_type": "code",
      "source": [
        "# Import library\n",
        "import pandas as pd\n",
        "import numpy as np\n",
        "from sklearn.model_selection import train_test_split\n",
        "from sklearn.naive_bayes import GaussianNB\n",
        "from sklearn.metrics import confusion_matrix, accuracy_score, classification_report"
      ],
      "metadata": {
        "id": "2dgkO09jIA2H"
      },
      "execution_count": 35,
      "outputs": []
    },
    {
      "cell_type": "code",
      "source": [
        "# Menampilkan data\n",
        "print(data)"
      ],
      "metadata": {
        "colab": {
          "base_uri": "https://localhost:8080/"
        },
        "id": "-h72i6ymI3Qe",
        "outputId": "5722a262-538b-4658-c2f9-68e999875da9"
      },
      "execution_count": 36,
      "outputs": [
        {
          "output_type": "stream",
          "name": "stdout",
          "text": [
            "      Jenis Kelamin  Berat Badan  Tinggi Badan  Lingkar Perut  \\\n",
            "0                 1         54.0         150.0           79.0   \n",
            "1                 0         61.0         172.0           83.0   \n",
            "2                 1         82.0         153.0          100.0   \n",
            "3                 0         46.0         157.0           70.0   \n",
            "4                 1         55.0         155.0           80.0   \n",
            "...             ...          ...           ...            ...   \n",
            "1127              0         50.0         150.0           80.0   \n",
            "1128              1         50.0         155.0           71.0   \n",
            "1129              0         45.0         160.0           68.0   \n",
            "1130              1         60.0         157.0           82.0   \n",
            "1131              1         48.0         155.0           75.0   \n",
            "\n",
            "      Tekanan Darah Sistolik  Tekanan Darah Diastolik  Risiko Merokok  \\\n",
            "0                      110.0                     78.0               0   \n",
            "1                      141.0                    120.0               1   \n",
            "2                      155.0                     97.0               0   \n",
            "3                      120.0                     72.0               1   \n",
            "4                      119.0                     79.0               0   \n",
            "...                      ...                      ...             ...   \n",
            "1127                   130.0                     80.0               0   \n",
            "1128                   120.0                     80.0               0   \n",
            "1129                   110.0                     60.0               0   \n",
            "1130                   112.0                     78.0               0   \n",
            "1131                   115.0                     75.0               0   \n",
            "\n",
            "      Kurang Aktivitas Fisik  Gula Berlebihan  Garam Berlebihan  \\\n",
            "0                          0                1                 0   \n",
            "1                          1                0                 0   \n",
            "2                          0                1                 1   \n",
            "3                          1                0                 1   \n",
            "4                          0                1                 0   \n",
            "...                      ...              ...               ...   \n",
            "1127                       0                0                 0   \n",
            "1128                       0                1                 0   \n",
            "1129                       0                0                 0   \n",
            "1130                       0                0                 0   \n",
            "1131                       1                0                 0   \n",
            "\n",
            "      Lemak Berlebihan  Kurang Makan Buah dan Sayur  Konsumsi Alkohol  \\\n",
            "0                    0                            1                 0   \n",
            "1                    0                            1                 1   \n",
            "2                    1                            0                 0   \n",
            "3                    1                            0                 1   \n",
            "4                    0                            0                 0   \n",
            "...                ...                          ...               ...   \n",
            "1127                 0                            0                 0   \n",
            "1128                 0                            0                 0   \n",
            "1129                 0                            1                 0   \n",
            "1130                 0                            0                 0   \n",
            "1131                 0                            0                 0   \n",
            "\n",
            "      Status Hipertensi  \n",
            "0                     0  \n",
            "1                     1  \n",
            "2                     1  \n",
            "3                     0  \n",
            "4                     0  \n",
            "...                 ...  \n",
            "1127                  0  \n",
            "1128                  0  \n",
            "1129                  0  \n",
            "1130                  0  \n",
            "1131                  0  \n",
            "\n",
            "[901 rows x 14 columns]\n"
          ]
        }
      ]
    },
    {
      "cell_type": "code",
      "source": [
        "# Menampilkan informasi data\n",
        "data.info()"
      ],
      "metadata": {
        "colab": {
          "base_uri": "https://localhost:8080/"
        },
        "id": "2LbgLVnsLE4J",
        "outputId": "d8d3c549-bcde-4154-9384-8506179e0fdd"
      },
      "execution_count": 37,
      "outputs": [
        {
          "output_type": "stream",
          "name": "stdout",
          "text": [
            "<class 'pandas.core.frame.DataFrame'>\n",
            "Index: 901 entries, 0 to 1131\n",
            "Data columns (total 14 columns):\n",
            " #   Column                       Non-Null Count  Dtype  \n",
            "---  ------                       --------------  -----  \n",
            " 0   Jenis Kelamin                901 non-null    int64  \n",
            " 1   Berat Badan                  901 non-null    float64\n",
            " 2   Tinggi Badan                 901 non-null    float64\n",
            " 3   Lingkar Perut                901 non-null    float64\n",
            " 4   Tekanan Darah Sistolik       901 non-null    float64\n",
            " 5   Tekanan Darah Diastolik      901 non-null    float64\n",
            " 6   Risiko Merokok               901 non-null    int64  \n",
            " 7   Kurang Aktivitas Fisik       901 non-null    int64  \n",
            " 8   Gula Berlebihan              901 non-null    int64  \n",
            " 9   Garam Berlebihan             901 non-null    int64  \n",
            " 10  Lemak Berlebihan             901 non-null    int64  \n",
            " 11  Kurang Makan Buah dan Sayur  901 non-null    int64  \n",
            " 12  Konsumsi Alkohol             901 non-null    int64  \n",
            " 13  Status Hipertensi            901 non-null    int64  \n",
            "dtypes: float64(5), int64(9)\n",
            "memory usage: 105.6 KB\n"
          ]
        }
      ]
    },
    {
      "cell_type": "code",
      "source": [
        "# Variabel independen\n",
        "x = data.drop(['Status Hipertensi'], axis=1)\n",
        "print(x)"
      ],
      "metadata": {
        "colab": {
          "base_uri": "https://localhost:8080/"
        },
        "id": "wwlaq6tqLSJP",
        "outputId": "6fb3cdca-7d4a-4c60-f7b6-c92cf3b32e34"
      },
      "execution_count": 38,
      "outputs": [
        {
          "output_type": "stream",
          "name": "stdout",
          "text": [
            "      Jenis Kelamin  Berat Badan  Tinggi Badan  Lingkar Perut  \\\n",
            "0                 1         54.0         150.0           79.0   \n",
            "1                 0         61.0         172.0           83.0   \n",
            "2                 1         82.0         153.0          100.0   \n",
            "3                 0         46.0         157.0           70.0   \n",
            "4                 1         55.0         155.0           80.0   \n",
            "...             ...          ...           ...            ...   \n",
            "1127              0         50.0         150.0           80.0   \n",
            "1128              1         50.0         155.0           71.0   \n",
            "1129              0         45.0         160.0           68.0   \n",
            "1130              1         60.0         157.0           82.0   \n",
            "1131              1         48.0         155.0           75.0   \n",
            "\n",
            "      Tekanan Darah Sistolik  Tekanan Darah Diastolik  Risiko Merokok  \\\n",
            "0                      110.0                     78.0               0   \n",
            "1                      141.0                    120.0               1   \n",
            "2                      155.0                     97.0               0   \n",
            "3                      120.0                     72.0               1   \n",
            "4                      119.0                     79.0               0   \n",
            "...                      ...                      ...             ...   \n",
            "1127                   130.0                     80.0               0   \n",
            "1128                   120.0                     80.0               0   \n",
            "1129                   110.0                     60.0               0   \n",
            "1130                   112.0                     78.0               0   \n",
            "1131                   115.0                     75.0               0   \n",
            "\n",
            "      Kurang Aktivitas Fisik  Gula Berlebihan  Garam Berlebihan  \\\n",
            "0                          0                1                 0   \n",
            "1                          1                0                 0   \n",
            "2                          0                1                 1   \n",
            "3                          1                0                 1   \n",
            "4                          0                1                 0   \n",
            "...                      ...              ...               ...   \n",
            "1127                       0                0                 0   \n",
            "1128                       0                1                 0   \n",
            "1129                       0                0                 0   \n",
            "1130                       0                0                 0   \n",
            "1131                       1                0                 0   \n",
            "\n",
            "      Lemak Berlebihan  Kurang Makan Buah dan Sayur  Konsumsi Alkohol  \n",
            "0                    0                            1                 0  \n",
            "1                    0                            1                 1  \n",
            "2                    1                            0                 0  \n",
            "3                    1                            0                 1  \n",
            "4                    0                            0                 0  \n",
            "...                ...                          ...               ...  \n",
            "1127                 0                            0                 0  \n",
            "1128                 0                            0                 0  \n",
            "1129                 0                            1                 0  \n",
            "1130                 0                            0                 0  \n",
            "1131                 0                            0                 0  \n",
            "\n",
            "[901 rows x 13 columns]\n"
          ]
        }
      ]
    },
    {
      "cell_type": "code",
      "source": [
        "# Variabel dependen\n",
        "y = data['Status Hipertensi']\n",
        "print(y)"
      ],
      "metadata": {
        "colab": {
          "base_uri": "https://localhost:8080/"
        },
        "id": "khk-PFHoMzM5",
        "outputId": "f39793e7-0a32-48d7-ee13-e8b27b052fa2"
      },
      "execution_count": 39,
      "outputs": [
        {
          "output_type": "stream",
          "name": "stdout",
          "text": [
            "0       0\n",
            "1       1\n",
            "2       1\n",
            "3       0\n",
            "4       0\n",
            "       ..\n",
            "1127    0\n",
            "1128    0\n",
            "1129    0\n",
            "1130    0\n",
            "1131    0\n",
            "Name: Status Hipertensi, Length: 901, dtype: int64\n"
          ]
        }
      ]
    },
    {
      "cell_type": "code",
      "source": [
        "# Pembagian training dan testing set\n",
        "x_train, x_test, y_train, y_test = train_test_split(\n",
        "    x, y, test_size=0.1, random_state=0\n",
        ")"
      ],
      "metadata": {
        "id": "clCacgi-M77g"
      },
      "execution_count": 40,
      "outputs": []
    },
    {
      "cell_type": "code",
      "source": [
        "# Membuat model Naive Bayes\n",
        "model_nb = GaussianNB()\n",
        "model_nb.fit(x_train, y_train)"
      ],
      "metadata": {
        "colab": {
          "base_uri": "https://localhost:8080/",
          "height": 80
        },
        "id": "lxF_Lpp5Gc-h",
        "outputId": "6a7073ed-e63e-4cfd-fe4c-eba8915dda8c"
      },
      "execution_count": 41,
      "outputs": [
        {
          "output_type": "execute_result",
          "data": {
            "text/plain": [
              "GaussianNB()"
            ],
            "text/html": [
              "<style>#sk-container-id-1 {\n",
              "  /* Definition of color scheme common for light and dark mode */\n",
              "  --sklearn-color-text: black;\n",
              "  --sklearn-color-line: gray;\n",
              "  /* Definition of color scheme for unfitted estimators */\n",
              "  --sklearn-color-unfitted-level-0: #fff5e6;\n",
              "  --sklearn-color-unfitted-level-1: #f6e4d2;\n",
              "  --sklearn-color-unfitted-level-2: #ffe0b3;\n",
              "  --sklearn-color-unfitted-level-3: chocolate;\n",
              "  /* Definition of color scheme for fitted estimators */\n",
              "  --sklearn-color-fitted-level-0: #f0f8ff;\n",
              "  --sklearn-color-fitted-level-1: #d4ebff;\n",
              "  --sklearn-color-fitted-level-2: #b3dbfd;\n",
              "  --sklearn-color-fitted-level-3: cornflowerblue;\n",
              "\n",
              "  /* Specific color for light theme */\n",
              "  --sklearn-color-text-on-default-background: var(--sg-text-color, var(--theme-code-foreground, var(--jp-content-font-color1, black)));\n",
              "  --sklearn-color-background: var(--sg-background-color, var(--theme-background, var(--jp-layout-color0, white)));\n",
              "  --sklearn-color-border-box: var(--sg-text-color, var(--theme-code-foreground, var(--jp-content-font-color1, black)));\n",
              "  --sklearn-color-icon: #696969;\n",
              "\n",
              "  @media (prefers-color-scheme: dark) {\n",
              "    /* Redefinition of color scheme for dark theme */\n",
              "    --sklearn-color-text-on-default-background: var(--sg-text-color, var(--theme-code-foreground, var(--jp-content-font-color1, white)));\n",
              "    --sklearn-color-background: var(--sg-background-color, var(--theme-background, var(--jp-layout-color0, #111)));\n",
              "    --sklearn-color-border-box: var(--sg-text-color, var(--theme-code-foreground, var(--jp-content-font-color1, white)));\n",
              "    --sklearn-color-icon: #878787;\n",
              "  }\n",
              "}\n",
              "\n",
              "#sk-container-id-1 {\n",
              "  color: var(--sklearn-color-text);\n",
              "}\n",
              "\n",
              "#sk-container-id-1 pre {\n",
              "  padding: 0;\n",
              "}\n",
              "\n",
              "#sk-container-id-1 input.sk-hidden--visually {\n",
              "  border: 0;\n",
              "  clip: rect(1px 1px 1px 1px);\n",
              "  clip: rect(1px, 1px, 1px, 1px);\n",
              "  height: 1px;\n",
              "  margin: -1px;\n",
              "  overflow: hidden;\n",
              "  padding: 0;\n",
              "  position: absolute;\n",
              "  width: 1px;\n",
              "}\n",
              "\n",
              "#sk-container-id-1 div.sk-dashed-wrapped {\n",
              "  border: 1px dashed var(--sklearn-color-line);\n",
              "  margin: 0 0.4em 0.5em 0.4em;\n",
              "  box-sizing: border-box;\n",
              "  padding-bottom: 0.4em;\n",
              "  background-color: var(--sklearn-color-background);\n",
              "}\n",
              "\n",
              "#sk-container-id-1 div.sk-container {\n",
              "  /* jupyter's `normalize.less` sets `[hidden] { display: none; }`\n",
              "     but bootstrap.min.css set `[hidden] { display: none !important; }`\n",
              "     so we also need the `!important` here to be able to override the\n",
              "     default hidden behavior on the sphinx rendered scikit-learn.org.\n",
              "     See: https://github.com/scikit-learn/scikit-learn/issues/21755 */\n",
              "  display: inline-block !important;\n",
              "  position: relative;\n",
              "}\n",
              "\n",
              "#sk-container-id-1 div.sk-text-repr-fallback {\n",
              "  display: none;\n",
              "}\n",
              "\n",
              "div.sk-parallel-item,\n",
              "div.sk-serial,\n",
              "div.sk-item {\n",
              "  /* draw centered vertical line to link estimators */\n",
              "  background-image: linear-gradient(var(--sklearn-color-text-on-default-background), var(--sklearn-color-text-on-default-background));\n",
              "  background-size: 2px 100%;\n",
              "  background-repeat: no-repeat;\n",
              "  background-position: center center;\n",
              "}\n",
              "\n",
              "/* Parallel-specific style estimator block */\n",
              "\n",
              "#sk-container-id-1 div.sk-parallel-item::after {\n",
              "  content: \"\";\n",
              "  width: 100%;\n",
              "  border-bottom: 2px solid var(--sklearn-color-text-on-default-background);\n",
              "  flex-grow: 1;\n",
              "}\n",
              "\n",
              "#sk-container-id-1 div.sk-parallel {\n",
              "  display: flex;\n",
              "  align-items: stretch;\n",
              "  justify-content: center;\n",
              "  background-color: var(--sklearn-color-background);\n",
              "  position: relative;\n",
              "}\n",
              "\n",
              "#sk-container-id-1 div.sk-parallel-item {\n",
              "  display: flex;\n",
              "  flex-direction: column;\n",
              "}\n",
              "\n",
              "#sk-container-id-1 div.sk-parallel-item:first-child::after {\n",
              "  align-self: flex-end;\n",
              "  width: 50%;\n",
              "}\n",
              "\n",
              "#sk-container-id-1 div.sk-parallel-item:last-child::after {\n",
              "  align-self: flex-start;\n",
              "  width: 50%;\n",
              "}\n",
              "\n",
              "#sk-container-id-1 div.sk-parallel-item:only-child::after {\n",
              "  width: 0;\n",
              "}\n",
              "\n",
              "/* Serial-specific style estimator block */\n",
              "\n",
              "#sk-container-id-1 div.sk-serial {\n",
              "  display: flex;\n",
              "  flex-direction: column;\n",
              "  align-items: center;\n",
              "  background-color: var(--sklearn-color-background);\n",
              "  padding-right: 1em;\n",
              "  padding-left: 1em;\n",
              "}\n",
              "\n",
              "\n",
              "/* Toggleable style: style used for estimator/Pipeline/ColumnTransformer box that is\n",
              "clickable and can be expanded/collapsed.\n",
              "- Pipeline and ColumnTransformer use this feature and define the default style\n",
              "- Estimators will overwrite some part of the style using the `sk-estimator` class\n",
              "*/\n",
              "\n",
              "/* Pipeline and ColumnTransformer style (default) */\n",
              "\n",
              "#sk-container-id-1 div.sk-toggleable {\n",
              "  /* Default theme specific background. It is overwritten whether we have a\n",
              "  specific estimator or a Pipeline/ColumnTransformer */\n",
              "  background-color: var(--sklearn-color-background);\n",
              "}\n",
              "\n",
              "/* Toggleable label */\n",
              "#sk-container-id-1 label.sk-toggleable__label {\n",
              "  cursor: pointer;\n",
              "  display: block;\n",
              "  width: 100%;\n",
              "  margin-bottom: 0;\n",
              "  padding: 0.5em;\n",
              "  box-sizing: border-box;\n",
              "  text-align: center;\n",
              "}\n",
              "\n",
              "#sk-container-id-1 label.sk-toggleable__label-arrow:before {\n",
              "  /* Arrow on the left of the label */\n",
              "  content: \"▸\";\n",
              "  float: left;\n",
              "  margin-right: 0.25em;\n",
              "  color: var(--sklearn-color-icon);\n",
              "}\n",
              "\n",
              "#sk-container-id-1 label.sk-toggleable__label-arrow:hover:before {\n",
              "  color: var(--sklearn-color-text);\n",
              "}\n",
              "\n",
              "/* Toggleable content - dropdown */\n",
              "\n",
              "#sk-container-id-1 div.sk-toggleable__content {\n",
              "  max-height: 0;\n",
              "  max-width: 0;\n",
              "  overflow: hidden;\n",
              "  text-align: left;\n",
              "  /* unfitted */\n",
              "  background-color: var(--sklearn-color-unfitted-level-0);\n",
              "}\n",
              "\n",
              "#sk-container-id-1 div.sk-toggleable__content.fitted {\n",
              "  /* fitted */\n",
              "  background-color: var(--sklearn-color-fitted-level-0);\n",
              "}\n",
              "\n",
              "#sk-container-id-1 div.sk-toggleable__content pre {\n",
              "  margin: 0.2em;\n",
              "  border-radius: 0.25em;\n",
              "  color: var(--sklearn-color-text);\n",
              "  /* unfitted */\n",
              "  background-color: var(--sklearn-color-unfitted-level-0);\n",
              "}\n",
              "\n",
              "#sk-container-id-1 div.sk-toggleable__content.fitted pre {\n",
              "  /* unfitted */\n",
              "  background-color: var(--sklearn-color-fitted-level-0);\n",
              "}\n",
              "\n",
              "#sk-container-id-1 input.sk-toggleable__control:checked~div.sk-toggleable__content {\n",
              "  /* Expand drop-down */\n",
              "  max-height: 200px;\n",
              "  max-width: 100%;\n",
              "  overflow: auto;\n",
              "}\n",
              "\n",
              "#sk-container-id-1 input.sk-toggleable__control:checked~label.sk-toggleable__label-arrow:before {\n",
              "  content: \"▾\";\n",
              "}\n",
              "\n",
              "/* Pipeline/ColumnTransformer-specific style */\n",
              "\n",
              "#sk-container-id-1 div.sk-label input.sk-toggleable__control:checked~label.sk-toggleable__label {\n",
              "  color: var(--sklearn-color-text);\n",
              "  background-color: var(--sklearn-color-unfitted-level-2);\n",
              "}\n",
              "\n",
              "#sk-container-id-1 div.sk-label.fitted input.sk-toggleable__control:checked~label.sk-toggleable__label {\n",
              "  background-color: var(--sklearn-color-fitted-level-2);\n",
              "}\n",
              "\n",
              "/* Estimator-specific style */\n",
              "\n",
              "/* Colorize estimator box */\n",
              "#sk-container-id-1 div.sk-estimator input.sk-toggleable__control:checked~label.sk-toggleable__label {\n",
              "  /* unfitted */\n",
              "  background-color: var(--sklearn-color-unfitted-level-2);\n",
              "}\n",
              "\n",
              "#sk-container-id-1 div.sk-estimator.fitted input.sk-toggleable__control:checked~label.sk-toggleable__label {\n",
              "  /* fitted */\n",
              "  background-color: var(--sklearn-color-fitted-level-2);\n",
              "}\n",
              "\n",
              "#sk-container-id-1 div.sk-label label.sk-toggleable__label,\n",
              "#sk-container-id-1 div.sk-label label {\n",
              "  /* The background is the default theme color */\n",
              "  color: var(--sklearn-color-text-on-default-background);\n",
              "}\n",
              "\n",
              "/* On hover, darken the color of the background */\n",
              "#sk-container-id-1 div.sk-label:hover label.sk-toggleable__label {\n",
              "  color: var(--sklearn-color-text);\n",
              "  background-color: var(--sklearn-color-unfitted-level-2);\n",
              "}\n",
              "\n",
              "/* Label box, darken color on hover, fitted */\n",
              "#sk-container-id-1 div.sk-label.fitted:hover label.sk-toggleable__label.fitted {\n",
              "  color: var(--sklearn-color-text);\n",
              "  background-color: var(--sklearn-color-fitted-level-2);\n",
              "}\n",
              "\n",
              "/* Estimator label */\n",
              "\n",
              "#sk-container-id-1 div.sk-label label {\n",
              "  font-family: monospace;\n",
              "  font-weight: bold;\n",
              "  display: inline-block;\n",
              "  line-height: 1.2em;\n",
              "}\n",
              "\n",
              "#sk-container-id-1 div.sk-label-container {\n",
              "  text-align: center;\n",
              "}\n",
              "\n",
              "/* Estimator-specific */\n",
              "#sk-container-id-1 div.sk-estimator {\n",
              "  font-family: monospace;\n",
              "  border: 1px dotted var(--sklearn-color-border-box);\n",
              "  border-radius: 0.25em;\n",
              "  box-sizing: border-box;\n",
              "  margin-bottom: 0.5em;\n",
              "  /* unfitted */\n",
              "  background-color: var(--sklearn-color-unfitted-level-0);\n",
              "}\n",
              "\n",
              "#sk-container-id-1 div.sk-estimator.fitted {\n",
              "  /* fitted */\n",
              "  background-color: var(--sklearn-color-fitted-level-0);\n",
              "}\n",
              "\n",
              "/* on hover */\n",
              "#sk-container-id-1 div.sk-estimator:hover {\n",
              "  /* unfitted */\n",
              "  background-color: var(--sklearn-color-unfitted-level-2);\n",
              "}\n",
              "\n",
              "#sk-container-id-1 div.sk-estimator.fitted:hover {\n",
              "  /* fitted */\n",
              "  background-color: var(--sklearn-color-fitted-level-2);\n",
              "}\n",
              "\n",
              "/* Specification for estimator info (e.g. \"i\" and \"?\") */\n",
              "\n",
              "/* Common style for \"i\" and \"?\" */\n",
              "\n",
              ".sk-estimator-doc-link,\n",
              "a:link.sk-estimator-doc-link,\n",
              "a:visited.sk-estimator-doc-link {\n",
              "  float: right;\n",
              "  font-size: smaller;\n",
              "  line-height: 1em;\n",
              "  font-family: monospace;\n",
              "  background-color: var(--sklearn-color-background);\n",
              "  border-radius: 1em;\n",
              "  height: 1em;\n",
              "  width: 1em;\n",
              "  text-decoration: none !important;\n",
              "  margin-left: 1ex;\n",
              "  /* unfitted */\n",
              "  border: var(--sklearn-color-unfitted-level-1) 1pt solid;\n",
              "  color: var(--sklearn-color-unfitted-level-1);\n",
              "}\n",
              "\n",
              ".sk-estimator-doc-link.fitted,\n",
              "a:link.sk-estimator-doc-link.fitted,\n",
              "a:visited.sk-estimator-doc-link.fitted {\n",
              "  /* fitted */\n",
              "  border: var(--sklearn-color-fitted-level-1) 1pt solid;\n",
              "  color: var(--sklearn-color-fitted-level-1);\n",
              "}\n",
              "\n",
              "/* On hover */\n",
              "div.sk-estimator:hover .sk-estimator-doc-link:hover,\n",
              ".sk-estimator-doc-link:hover,\n",
              "div.sk-label-container:hover .sk-estimator-doc-link:hover,\n",
              ".sk-estimator-doc-link:hover {\n",
              "  /* unfitted */\n",
              "  background-color: var(--sklearn-color-unfitted-level-3);\n",
              "  color: var(--sklearn-color-background);\n",
              "  text-decoration: none;\n",
              "}\n",
              "\n",
              "div.sk-estimator.fitted:hover .sk-estimator-doc-link.fitted:hover,\n",
              ".sk-estimator-doc-link.fitted:hover,\n",
              "div.sk-label-container:hover .sk-estimator-doc-link.fitted:hover,\n",
              ".sk-estimator-doc-link.fitted:hover {\n",
              "  /* fitted */\n",
              "  background-color: var(--sklearn-color-fitted-level-3);\n",
              "  color: var(--sklearn-color-background);\n",
              "  text-decoration: none;\n",
              "}\n",
              "\n",
              "/* Span, style for the box shown on hovering the info icon */\n",
              ".sk-estimator-doc-link span {\n",
              "  display: none;\n",
              "  z-index: 9999;\n",
              "  position: relative;\n",
              "  font-weight: normal;\n",
              "  right: .2ex;\n",
              "  padding: .5ex;\n",
              "  margin: .5ex;\n",
              "  width: min-content;\n",
              "  min-width: 20ex;\n",
              "  max-width: 50ex;\n",
              "  color: var(--sklearn-color-text);\n",
              "  box-shadow: 2pt 2pt 4pt #999;\n",
              "  /* unfitted */\n",
              "  background: var(--sklearn-color-unfitted-level-0);\n",
              "  border: .5pt solid var(--sklearn-color-unfitted-level-3);\n",
              "}\n",
              "\n",
              ".sk-estimator-doc-link.fitted span {\n",
              "  /* fitted */\n",
              "  background: var(--sklearn-color-fitted-level-0);\n",
              "  border: var(--sklearn-color-fitted-level-3);\n",
              "}\n",
              "\n",
              ".sk-estimator-doc-link:hover span {\n",
              "  display: block;\n",
              "}\n",
              "\n",
              "/* \"?\"-specific style due to the `<a>` HTML tag */\n",
              "\n",
              "#sk-container-id-1 a.estimator_doc_link {\n",
              "  float: right;\n",
              "  font-size: 1rem;\n",
              "  line-height: 1em;\n",
              "  font-family: monospace;\n",
              "  background-color: var(--sklearn-color-background);\n",
              "  border-radius: 1rem;\n",
              "  height: 1rem;\n",
              "  width: 1rem;\n",
              "  text-decoration: none;\n",
              "  /* unfitted */\n",
              "  color: var(--sklearn-color-unfitted-level-1);\n",
              "  border: var(--sklearn-color-unfitted-level-1) 1pt solid;\n",
              "}\n",
              "\n",
              "#sk-container-id-1 a.estimator_doc_link.fitted {\n",
              "  /* fitted */\n",
              "  border: var(--sklearn-color-fitted-level-1) 1pt solid;\n",
              "  color: var(--sklearn-color-fitted-level-1);\n",
              "}\n",
              "\n",
              "/* On hover */\n",
              "#sk-container-id-1 a.estimator_doc_link:hover {\n",
              "  /* unfitted */\n",
              "  background-color: var(--sklearn-color-unfitted-level-3);\n",
              "  color: var(--sklearn-color-background);\n",
              "  text-decoration: none;\n",
              "}\n",
              "\n",
              "#sk-container-id-1 a.estimator_doc_link.fitted:hover {\n",
              "  /* fitted */\n",
              "  background-color: var(--sklearn-color-fitted-level-3);\n",
              "}\n",
              "</style><div id=\"sk-container-id-1\" class=\"sk-top-container\"><div class=\"sk-text-repr-fallback\"><pre>GaussianNB()</pre><b>In a Jupyter environment, please rerun this cell to show the HTML representation or trust the notebook. <br />On GitHub, the HTML representation is unable to render, please try loading this page with nbviewer.org.</b></div><div class=\"sk-container\" hidden><div class=\"sk-item\"><div class=\"sk-estimator fitted sk-toggleable\"><input class=\"sk-toggleable__control sk-hidden--visually\" id=\"sk-estimator-id-1\" type=\"checkbox\" checked><label for=\"sk-estimator-id-1\" class=\"sk-toggleable__label fitted sk-toggleable__label-arrow fitted\">&nbsp;&nbsp;GaussianNB<a class=\"sk-estimator-doc-link fitted\" rel=\"noreferrer\" target=\"_blank\" href=\"https://scikit-learn.org/1.5/modules/generated/sklearn.naive_bayes.GaussianNB.html\">?<span>Documentation for GaussianNB</span></a><span class=\"sk-estimator-doc-link fitted\">i<span>Fitted</span></span></label><div class=\"sk-toggleable__content fitted\"><pre>GaussianNB()</pre></div> </div></div></div></div>"
            ]
          },
          "metadata": {},
          "execution_count": 41
        }
      ]
    },
    {
      "cell_type": "code",
      "source": [
        "# Prediksi menggunakan data test\n",
        "y_pred = model_nb.predict(x_test)"
      ],
      "metadata": {
        "id": "D2qsK9z9GjUa"
      },
      "execution_count": 42,
      "outputs": []
    },
    {
      "cell_type": "code",
      "source": [
        "# Menampilkan hasil prediksi\n",
        "print(\"Hasil Prediksi:\")\n",
        "print(y_pred)"
      ],
      "metadata": {
        "colab": {
          "base_uri": "https://localhost:8080/"
        },
        "id": "b8ta1miXGnwY",
        "outputId": "93aa5ea9-e580-46a0-c712-3ddb8c8432d0"
      },
      "execution_count": 43,
      "outputs": [
        {
          "output_type": "stream",
          "name": "stdout",
          "text": [
            "Hasil Prediksi:\n",
            "[0 0 0 0 0 0 0 0 0 0 0 0 0 0 0 0 0 0 1 0 0 1 0 0 0 0 0 0 1 0 0 0 0 0 0 0 0\n",
            " 0 0 0 0 0 0 0 0 0 1 0 0 0 0 0 0 0 0 1 0 1 1 0 0 0 0 0 0 0 0 0 0 0 0 0 0 0\n",
            " 0 1 0 0 0 0 0 0 0 0 0 0 0 1 0 0 0]\n"
          ]
        }
      ]
    },
    {
      "cell_type": "code",
      "source": [
        "np.array(y_test)"
      ],
      "metadata": {
        "colab": {
          "base_uri": "https://localhost:8080/"
        },
        "id": "h8xatFYMHB51",
        "outputId": "746f7967-9c5c-4c4d-89d3-c88623578384"
      },
      "execution_count": 44,
      "outputs": [
        {
          "output_type": "execute_result",
          "data": {
            "text/plain": [
              "array([0, 0, 0, 0, 0, 0, 0, 0, 0, 0, 0, 0, 0, 0, 1, 0, 1, 0, 1, 0, 0, 0,\n",
              "       1, 0, 0, 0, 0, 0, 0, 0, 0, 0, 0, 0, 0, 0, 0, 0, 0, 0, 0, 1, 0, 0,\n",
              "       0, 0, 1, 0, 0, 0, 0, 0, 0, 0, 0, 1, 0, 1, 1, 0, 0, 0, 0, 0, 0, 0,\n",
              "       1, 0, 0, 0, 0, 0, 0, 0, 0, 1, 0, 0, 1, 0, 0, 0, 1, 0, 0, 0, 0, 1,\n",
              "       0, 0, 0])"
            ]
          },
          "metadata": {},
          "execution_count": 44
        }
      ]
    },
    {
      "cell_type": "code",
      "source": [
        "# Confusion Matrix\n",
        "cm = confusion_matrix(y_test, y_pred)\n",
        "print(\"\\nConfusion Matrix:\")\n",
        "print(cm)"
      ],
      "metadata": {
        "colab": {
          "base_uri": "https://localhost:8080/"
        },
        "id": "s3fAs5naGrI8",
        "outputId": "3b8cd246-8394-4951-944a-45439daeea04"
      },
      "execution_count": 45,
      "outputs": [
        {
          "output_type": "stream",
          "name": "stdout",
          "text": [
            "\n",
            "Confusion Matrix:\n",
            "[[75  2]\n",
            " [ 7  7]]\n"
          ]
        }
      ]
    },
    {
      "cell_type": "code",
      "source": [
        "# Menghitung Akurasi\n",
        "accuracy = accuracy_score(y_test, y_pred)\n",
        "print(\"\\nAkurasi:\")\n",
        "print(accuracy)"
      ],
      "metadata": {
        "colab": {
          "base_uri": "https://localhost:8080/"
        },
        "id": "Xo4jNRP9GyYK",
        "outputId": "03d8f6b9-e2d5-4b7c-b54a-5e851e76590d"
      },
      "execution_count": 46,
      "outputs": [
        {
          "output_type": "stream",
          "name": "stdout",
          "text": [
            "\n",
            "Akurasi:\n",
            "0.9010989010989011\n"
          ]
        }
      ]
    },
    {
      "cell_type": "code",
      "source": [
        "# Classification Report\n",
        "print(\"\\nClassification Report:\")\n",
        "print(classification_report(y_test, y_pred))"
      ],
      "metadata": {
        "colab": {
          "base_uri": "https://localhost:8080/"
        },
        "id": "XlG9JJV4G1Ph",
        "outputId": "c496dd63-bbd4-4b58-dbb2-4c5972320cfd"
      },
      "execution_count": 47,
      "outputs": [
        {
          "output_type": "stream",
          "name": "stdout",
          "text": [
            "\n",
            "Classification Report:\n",
            "              precision    recall  f1-score   support\n",
            "\n",
            "           0       0.91      0.97      0.94        77\n",
            "           1       0.78      0.50      0.61        14\n",
            "\n",
            "    accuracy                           0.90        91\n",
            "   macro avg       0.85      0.74      0.78        91\n",
            "weighted avg       0.89      0.90      0.89        91\n",
            "\n"
          ]
        }
      ]
    },
    {
      "cell_type": "code",
      "source": [
        "from sklearn.metrics import classification_report\n",
        "\n",
        "# Classification Report dengan 3 digit\n",
        "print(\"\\nClassification Report:\")\n",
        "print(classification_report(y_test, y_pred, digits=3))"
      ],
      "metadata": {
        "colab": {
          "base_uri": "https://localhost:8080/"
        },
        "id": "TwJsEt85pB-w",
        "outputId": "21d9ca69-4fb0-4b25-f7cb-b5d6c9640fcf"
      },
      "execution_count": 48,
      "outputs": [
        {
          "output_type": "stream",
          "name": "stdout",
          "text": [
            "\n",
            "Classification Report:\n",
            "              precision    recall  f1-score   support\n",
            "\n",
            "           0      0.915     0.974     0.943        77\n",
            "           1      0.778     0.500     0.609        14\n",
            "\n",
            "    accuracy                          0.901        91\n",
            "   macro avg      0.846     0.737     0.776        91\n",
            "weighted avg      0.894     0.901     0.892        91\n",
            "\n"
          ]
        }
      ]
    },
    {
      "cell_type": "markdown",
      "metadata": {
        "id": "HqefO1aCt9fI"
      },
      "source": [
        "## **KNN**"
      ]
    },
    {
      "cell_type": "code",
      "execution_count": 49,
      "metadata": {
        "id": "SV3Xs1r5uAsY"
      },
      "outputs": [],
      "source": [
        "# Import Library\n",
        "import pandas as pd\n",
        "import numpy as np\n",
        "import matplotlib.pyplot as plt\n",
        "from google.colab import drive\n",
        "from sklearn import preprocessing\n",
        "from sklearn.preprocessing import MinMaxScaler\n",
        "from sklearn.model_selection import train_test_split\n",
        "from sklearn.model_selection import cross_val_score, KFold, cross_validate\n",
        "from sklearn.neighbors import KNeighborsClassifier\n",
        "from sklearn.metrics import confusion_matrix, accuracy_score, classification_report"
      ]
    },
    {
      "cell_type": "code",
      "execution_count": 50,
      "metadata": {
        "id": "jqW1kg5DujYR",
        "colab": {
          "base_uri": "https://localhost:8080/"
        },
        "outputId": "f3491bec-8f30-424e-d919-0899468608e7"
      },
      "outputs": [
        {
          "output_type": "stream",
          "name": "stdout",
          "text": [
            "      Jenis Kelamin  Berat Badan  Tinggi Badan  Lingkar Perut  \\\n",
            "0                 1         54.0         150.0           79.0   \n",
            "1                 0         61.0         172.0           83.0   \n",
            "2                 1         82.0         153.0          100.0   \n",
            "3                 0         46.0         157.0           70.0   \n",
            "4                 1         55.0         155.0           80.0   \n",
            "...             ...          ...           ...            ...   \n",
            "1127              0         50.0         150.0           80.0   \n",
            "1128              1         50.0         155.0           71.0   \n",
            "1129              0         45.0         160.0           68.0   \n",
            "1130              1         60.0         157.0           82.0   \n",
            "1131              1         48.0         155.0           75.0   \n",
            "\n",
            "      Tekanan Darah Sistolik  Tekanan Darah Diastolik  Risiko Merokok  \\\n",
            "0                      110.0                     78.0               0   \n",
            "1                      141.0                    120.0               1   \n",
            "2                      155.0                     97.0               0   \n",
            "3                      120.0                     72.0               1   \n",
            "4                      119.0                     79.0               0   \n",
            "...                      ...                      ...             ...   \n",
            "1127                   130.0                     80.0               0   \n",
            "1128                   120.0                     80.0               0   \n",
            "1129                   110.0                     60.0               0   \n",
            "1130                   112.0                     78.0               0   \n",
            "1131                   115.0                     75.0               0   \n",
            "\n",
            "      Kurang Aktivitas Fisik  Gula Berlebihan  Garam Berlebihan  \\\n",
            "0                          0                1                 0   \n",
            "1                          1                0                 0   \n",
            "2                          0                1                 1   \n",
            "3                          1                0                 1   \n",
            "4                          0                1                 0   \n",
            "...                      ...              ...               ...   \n",
            "1127                       0                0                 0   \n",
            "1128                       0                1                 0   \n",
            "1129                       0                0                 0   \n",
            "1130                       0                0                 0   \n",
            "1131                       1                0                 0   \n",
            "\n",
            "      Lemak Berlebihan  Kurang Makan Buah dan Sayur  Konsumsi Alkohol  \\\n",
            "0                    0                            1                 0   \n",
            "1                    0                            1                 1   \n",
            "2                    1                            0                 0   \n",
            "3                    1                            0                 1   \n",
            "4                    0                            0                 0   \n",
            "...                ...                          ...               ...   \n",
            "1127                 0                            0                 0   \n",
            "1128                 0                            0                 0   \n",
            "1129                 0                            1                 0   \n",
            "1130                 0                            0                 0   \n",
            "1131                 0                            0                 0   \n",
            "\n",
            "      Status Hipertensi  \n",
            "0                     0  \n",
            "1                     1  \n",
            "2                     1  \n",
            "3                     0  \n",
            "4                     0  \n",
            "...                 ...  \n",
            "1127                  0  \n",
            "1128                  0  \n",
            "1129                  0  \n",
            "1130                  0  \n",
            "1131                  0  \n",
            "\n",
            "[901 rows x 14 columns]\n"
          ]
        }
      ],
      "source": [
        "# Menampilkan data\n",
        "print (data)"
      ]
    },
    {
      "cell_type": "code",
      "execution_count": 51,
      "metadata": {
        "id": "NRmUDifmulDe",
        "colab": {
          "base_uri": "https://localhost:8080/"
        },
        "outputId": "6412c1fe-35bd-47e1-efea-02a7bcc1ee1b"
      },
      "outputs": [
        {
          "output_type": "stream",
          "name": "stdout",
          "text": [
            "<class 'pandas.core.frame.DataFrame'>\n",
            "Index: 901 entries, 0 to 1131\n",
            "Data columns (total 14 columns):\n",
            " #   Column                       Non-Null Count  Dtype  \n",
            "---  ------                       --------------  -----  \n",
            " 0   Jenis Kelamin                901 non-null    int64  \n",
            " 1   Berat Badan                  901 non-null    float64\n",
            " 2   Tinggi Badan                 901 non-null    float64\n",
            " 3   Lingkar Perut                901 non-null    float64\n",
            " 4   Tekanan Darah Sistolik       901 non-null    float64\n",
            " 5   Tekanan Darah Diastolik      901 non-null    float64\n",
            " 6   Risiko Merokok               901 non-null    int64  \n",
            " 7   Kurang Aktivitas Fisik       901 non-null    int64  \n",
            " 8   Gula Berlebihan              901 non-null    int64  \n",
            " 9   Garam Berlebihan             901 non-null    int64  \n",
            " 10  Lemak Berlebihan             901 non-null    int64  \n",
            " 11  Kurang Makan Buah dan Sayur  901 non-null    int64  \n",
            " 12  Konsumsi Alkohol             901 non-null    int64  \n",
            " 13  Status Hipertensi            901 non-null    int64  \n",
            "dtypes: float64(5), int64(9)\n",
            "memory usage: 105.6 KB\n"
          ]
        }
      ],
      "source": [
        "# Menampilkan informasi data\n",
        "data.info()"
      ]
    },
    {
      "cell_type": "code",
      "source": [
        "# Variabel independen\n",
        "x = data.drop(['Status Hipertensi'], axis=1)\n",
        "print(x)"
      ],
      "metadata": {
        "colab": {
          "base_uri": "https://localhost:8080/"
        },
        "id": "BJOnpI9SNc4M",
        "outputId": "86905613-21c4-4848-9bd2-710c86845222"
      },
      "execution_count": 52,
      "outputs": [
        {
          "output_type": "stream",
          "name": "stdout",
          "text": [
            "      Jenis Kelamin  Berat Badan  Tinggi Badan  Lingkar Perut  \\\n",
            "0                 1         54.0         150.0           79.0   \n",
            "1                 0         61.0         172.0           83.0   \n",
            "2                 1         82.0         153.0          100.0   \n",
            "3                 0         46.0         157.0           70.0   \n",
            "4                 1         55.0         155.0           80.0   \n",
            "...             ...          ...           ...            ...   \n",
            "1127              0         50.0         150.0           80.0   \n",
            "1128              1         50.0         155.0           71.0   \n",
            "1129              0         45.0         160.0           68.0   \n",
            "1130              1         60.0         157.0           82.0   \n",
            "1131              1         48.0         155.0           75.0   \n",
            "\n",
            "      Tekanan Darah Sistolik  Tekanan Darah Diastolik  Risiko Merokok  \\\n",
            "0                      110.0                     78.0               0   \n",
            "1                      141.0                    120.0               1   \n",
            "2                      155.0                     97.0               0   \n",
            "3                      120.0                     72.0               1   \n",
            "4                      119.0                     79.0               0   \n",
            "...                      ...                      ...             ...   \n",
            "1127                   130.0                     80.0               0   \n",
            "1128                   120.0                     80.0               0   \n",
            "1129                   110.0                     60.0               0   \n",
            "1130                   112.0                     78.0               0   \n",
            "1131                   115.0                     75.0               0   \n",
            "\n",
            "      Kurang Aktivitas Fisik  Gula Berlebihan  Garam Berlebihan  \\\n",
            "0                          0                1                 0   \n",
            "1                          1                0                 0   \n",
            "2                          0                1                 1   \n",
            "3                          1                0                 1   \n",
            "4                          0                1                 0   \n",
            "...                      ...              ...               ...   \n",
            "1127                       0                0                 0   \n",
            "1128                       0                1                 0   \n",
            "1129                       0                0                 0   \n",
            "1130                       0                0                 0   \n",
            "1131                       1                0                 0   \n",
            "\n",
            "      Lemak Berlebihan  Kurang Makan Buah dan Sayur  Konsumsi Alkohol  \n",
            "0                    0                            1                 0  \n",
            "1                    0                            1                 1  \n",
            "2                    1                            0                 0  \n",
            "3                    1                            0                 1  \n",
            "4                    0                            0                 0  \n",
            "...                ...                          ...               ...  \n",
            "1127                 0                            0                 0  \n",
            "1128                 0                            0                 0  \n",
            "1129                 0                            1                 0  \n",
            "1130                 0                            0                 0  \n",
            "1131                 0                            0                 0  \n",
            "\n",
            "[901 rows x 13 columns]\n"
          ]
        }
      ]
    },
    {
      "cell_type": "code",
      "source": [
        "# Variabel dependen\n",
        "y = data['Status Hipertensi']\n",
        "print(y)"
      ],
      "metadata": {
        "colab": {
          "base_uri": "https://localhost:8080/"
        },
        "id": "IJ6u4OKrNh5P",
        "outputId": "aaa0b5e1-f5d6-41c2-d29d-153fa5aa3822"
      },
      "execution_count": 53,
      "outputs": [
        {
          "output_type": "stream",
          "name": "stdout",
          "text": [
            "0       0\n",
            "1       1\n",
            "2       1\n",
            "3       0\n",
            "4       0\n",
            "       ..\n",
            "1127    0\n",
            "1128    0\n",
            "1129    0\n",
            "1130    0\n",
            "1131    0\n",
            "Name: Status Hipertensi, Length: 901, dtype: int64\n"
          ]
        }
      ]
    },
    {
      "cell_type": "code",
      "source": [
        "##### INI SEKKKKKKKKKKKKK\n",
        "\n",
        "from sklearn.preprocessing import MinMaxScaler\n",
        "from sklearn.model_selection import train_test_split\n",
        "import pandas as pd\n",
        "\n",
        "# Memisahkan variabel numerik dan kategorik, dengan menghapus 'Status Hipertensi' dari kategori\n",
        "numerical_columns = ['Berat Badan', 'Tinggi Badan', 'Tekanan Darah Sistolik', 'Tekanan Darah Diastolik', 'Lingkar Perut']\n",
        "categorical_columns = ['Jenis Kelamin', 'Risiko Merokok', 'Kurang Aktivitas Fisik', 'Gula Berlebihan',\n",
        "                       'Garam Berlebihan', 'Lemak Berlebihan', 'Kurang Makan Buah dan Sayur',\n",
        "                       'Konsumsi Alkohol']  # 'Status Hipertensi' dihapus karena ini adalah variabel Y\n",
        "\n",
        "# Min-Max Scaling untuk seluruh data\n",
        "scaler = MinMaxScaler()\n",
        "\n",
        "# Terapkan pada seluruh data, baik numerik maupun kategorik\n",
        "x_numerical = x[numerical_columns]\n",
        "x_categorical = x[categorical_columns]\n",
        "\n",
        "# Standarisasi data numerik\n",
        "x_numerical_scaled = scaler.fit_transform(x_numerical)\n",
        "\n",
        "# Menggabungkan data numerik yang sudah distandarisasi dengan data kategorik\n",
        "x_final = pd.DataFrame(x_numerical_scaled, columns=numerical_columns)\n",
        "x_final = pd.concat([x_final, x_categorical.reset_index(drop=True)], axis=1)\n",
        "\n",
        "# Menyimpan data hasil standarisasi secara lengkap\n",
        "full_data_path = '/content/drive/MyDrive/Skripsi/Full_Standardized_Data.csv'\n",
        "x_final.to_csv(full_data_path, index=False)\n",
        "print(f\"Data yang sudah distandarisasi secara lengkap telah disimpan ke Google Drive pada {full_data_path}.\")\n",
        "\n",
        "# Pembagian training dan testing set (sekarang data x_final yang sudah distandarisasi)\n",
        "x_train, x_test, y_train, y_test = train_test_split(x_final, y, test_size=0.1, random_state=0)\n",
        "\n",
        "# Menyimpan data training dan testing yang sudah distandarisasi ke Google Drive\n",
        "train_path = '/content/drive/MyDrive/Skripsi/Standardizedd_Train.csv'\n",
        "test_path = '/content/drive/MyDrive/Skripsi/Standardizedd_Test.csv'\n",
        "\n",
        "data_train_standardized = pd.concat([x_train, y_train.reset_index(drop=True)], axis=1)\n",
        "data_test_standardized = pd.concat([x_test, y_test.reset_index(drop=True)], axis=1)\n",
        "\n",
        "data_train_standardized.to_csv(train_path, index=False)\n",
        "data_test_standardized.to_csv(test_path, index=False)\n",
        "\n",
        "print(f\"Data training dan testing yang telah distandarisasi telah disimpan ke Google Drive pada {train_path} dan {test_path}.\")"
      ],
      "metadata": {
        "colab": {
          "base_uri": "https://localhost:8080/"
        },
        "id": "5fm10HyKFcM-",
        "outputId": "a81bf830-d45c-46d7-8f37-502331e1a59c"
      },
      "execution_count": 54,
      "outputs": [
        {
          "output_type": "stream",
          "name": "stdout",
          "text": [
            "Data yang sudah distandarisasi secara lengkap telah disimpan ke Google Drive pada /content/drive/MyDrive/Skripsi/Full_Standardized_Data.csv.\n",
            "Data training dan testing yang telah distandarisasi telah disimpan ke Google Drive pada /content/drive/MyDrive/Skripsi/Standardizedd_Train.csv dan /content/drive/MyDrive/Skripsi/Standardizedd_Test.csv.\n"
          ]
        }
      ]
    },
    {
      "cell_type": "code",
      "source": [
        "# Pembagian training dan testing set\n",
        "x_train, x_test, y_train, y_test = train_test_split(\n",
        "    x, y, test_size=0.1, random_state=0\n",
        ")"
      ],
      "metadata": {
        "id": "V2PQbilQNoc8"
      },
      "execution_count": 55,
      "outputs": []
    },
    {
      "cell_type": "code",
      "execution_count": 56,
      "metadata": {
        "id": "ihtHuhQQvStL"
      },
      "outputs": [],
      "source": [
        "# 10-Fold Cross Validation\n",
        "CV = KFold(n_splits=10, shuffle=False)"
      ]
    },
    {
      "cell_type": "code",
      "source": [
        "from sklearn.preprocessing import MinMaxScaler\n",
        "from sklearn.model_selection import train_test_split, cross_val_score\n",
        "from sklearn.neighbors import KNeighborsClassifier\n",
        "import pandas as pd\n",
        "\n",
        "# Memisahkan variabel numerik dan kategorik\n",
        "numerical_columns = ['Berat Badan', 'Tinggi Badan', 'Tekanan Darah Sistolik', 'Tekanan Darah Diastolik', 'Lingkar Perut']\n",
        "categorical_columns = ['Jenis Kelamin', 'Risiko Merokok', 'Kurang Aktivitas Fisik', 'Gula Berlebihan',\n",
        "                       'Garam Berlebihan', 'Lemak Berlebihan', 'Kurang Makan Buah dan Sayur',\n",
        "                       'Konsumsi Alkohol']\n",
        "\n",
        "# Menggunakan MinMaxScaler untuk variabel numerik\n",
        "scaler = MinMaxScaler()\n",
        "x_train_numerical = x_train[numerical_columns]\n",
        "x_test_numerical = x_test[numerical_columns]\n",
        "\n",
        "x_train_numerical = scaler.fit_transform(x_train_numerical)\n",
        "x_test_numerical = scaler.transform(x_test_numerical)\n",
        "\n",
        "# Menyimpan kembali kolom kategorik tanpa distandarisasi\n",
        "x_train_categorical = x_train[categorical_columns]\n",
        "x_test_categorical = x_test[categorical_columns]\n",
        "\n",
        "# Menggabungkan kembali data numerik yang sudah distandarisasi dengan data kategorik\n",
        "x_train_final = pd.DataFrame(x_train_numerical, columns=numerical_columns)\n",
        "x_test_final = pd.DataFrame(x_test_numerical, columns=numerical_columns)\n",
        "\n",
        "x_train_final = pd.concat([x_train_final, x_train_categorical.reset_index(drop=True)], axis=1)\n",
        "x_test_final = pd.concat([x_test_final, x_test_categorical.reset_index(drop=True)], axis=1)\n",
        "\n",
        "# Cek hasil\n",
        "print(x_train_final.head())\n",
        "print(x_test_final.head())\n",
        "\n",
        "# Pilih parameter k antara 1 sampai 30\n",
        "k_values = range(1, 31)\n",
        "k_scores = []\n",
        "\n",
        "# Cross-validation untuk setiap nilai k\n",
        "for k in k_values:\n",
        "    knn = KNeighborsClassifier(n_neighbors=k)\n",
        "    scores = cross_val_score(knn, x_train_final, y_train, cv=10, scoring='accuracy')  # Gunakan x_train_final\n",
        "    k_scores.append(scores.mean())\n",
        "\n",
        "# Menampilkan nilai k dengan skor terbaik\n",
        "optimal_k = k_values[k_scores.index(max(k_scores))]\n",
        "print(f\"Nilai k optimal: {optimal_k} dengan akurasi rata-rata: {max(k_scores):.4f}\")"
      ],
      "metadata": {
        "colab": {
          "base_uri": "https://localhost:8080/"
        },
        "id": "uFDPto3WmxQA",
        "outputId": "a8fe3873-9b9c-4d16-cabe-ffc7b0392956"
      },
      "execution_count": 57,
      "outputs": [
        {
          "output_type": "stream",
          "name": "stdout",
          "text": [
            "   Berat Badan  Tinggi Badan  Tekanan Darah Sistolik  Tekanan Darah Diastolik  \\\n",
            "0     0.315068      0.571429                0.126761                 0.298851   \n",
            "1     0.369863      0.650794                0.063380                 0.229885   \n",
            "2     0.465753      0.555556                0.211268                 0.321839   \n",
            "3     0.424658      0.793651                0.197183                 0.344828   \n",
            "4     0.479452      0.746032                0.225352                 0.172414   \n",
            "\n",
            "   Lingkar Perut  Jenis Kelamin  Risiko Merokok  Kurang Aktivitas Fisik  \\\n",
            "0       0.428571              1               0                       0   \n",
            "1       0.428571              1               0                       0   \n",
            "2       0.500000              1               0                       0   \n",
            "3       0.428571              0               0                       0   \n",
            "4       0.700000              1               0                       0   \n",
            "\n",
            "   Gula Berlebihan  Garam Berlebihan  Lemak Berlebihan  \\\n",
            "0                0                 0                 0   \n",
            "1                0                 0                 0   \n",
            "2                0                 1                 0   \n",
            "3                0                 0                 0   \n",
            "4                0                 0                 0   \n",
            "\n",
            "   Kurang Makan Buah dan Sayur  Konsumsi Alkohol  \n",
            "0                            0                 0  \n",
            "1                            0                 0  \n",
            "2                            0                 0  \n",
            "3                            0                 0  \n",
            "4                            0                 0  \n",
            "   Berat Badan  Tinggi Badan  Tekanan Darah Sistolik  Tekanan Darah Diastolik  \\\n",
            "0     0.589041      0.539683                0.345070                 0.413793   \n",
            "1     0.205479      0.555556                0.218310                 0.344828   \n",
            "2     0.424658      0.555556                0.338028                 0.402299   \n",
            "3     0.150685      0.571429                0.267606                 0.344828   \n",
            "4     0.027397      0.619048                0.211268                 0.287356   \n",
            "\n",
            "   Lingkar Perut  Jenis Kelamin  Risiko Merokok  Kurang Aktivitas Fisik  \\\n",
            "0       0.500000              1               0                       0   \n",
            "1       0.428571              1               0                       0   \n",
            "2       0.428571              1               0                       0   \n",
            "3       0.428571              1               0                       0   \n",
            "4       0.700000              1               0                       0   \n",
            "\n",
            "   Gula Berlebihan  Garam Berlebihan  Lemak Berlebihan  \\\n",
            "0                0                 0                 0   \n",
            "1                0                 0                 0   \n",
            "2                0                 0                 0   \n",
            "3                0                 0                 0   \n",
            "4                0                 0                 0   \n",
            "\n",
            "   Kurang Makan Buah dan Sayur  Konsumsi Alkohol  \n",
            "0                            0                 0  \n",
            "1                            0                 0  \n",
            "2                            0                 0  \n",
            "3                            0                 0  \n",
            "4                            0                 0  \n",
            "Nilai k optimal: 3 dengan akurasi rata-rata: 0.9358\n"
          ]
        }
      ]
    },
    {
      "cell_type": "code",
      "execution_count": 58,
      "metadata": {
        "id": "yq0cCdl5vhD1"
      },
      "outputs": [],
      "source": [
        "# Pilih parameter k antara 1 sampai 30\n",
        "k_values = range(1, 31)\n",
        "k_scores = []\n",
        "\n",
        "# Cross-validation untuk setiap nilai k\n",
        "for k in k_values:\n",
        "    knn = KNeighborsClassifier(n_neighbors=k)\n",
        "    scores = cross_val_score(knn, x_train_final, y_train, cv=10, scoring='accuracy')  # Gunakan x_train_final\n",
        "    k_scores.append(scores.mean())"
      ]
    },
    {
      "cell_type": "code",
      "execution_count": 59,
      "metadata": {
        "id": "D8rO28TRvmce",
        "colab": {
          "base_uri": "https://localhost:8080/",
          "height": 509
        },
        "outputId": "5cac6d54-f035-4308-97a1-3aa915184aee"
      },
      "outputs": [
        {
          "output_type": "display_data",
          "data": {
            "text/plain": [
              "<Figure size 640x480 with 1 Axes>"
            ],
            "image/png": "[encoded data removed]"
          },
          "metadata": {}
        },
        {
          "output_type": "stream",
          "name": "stdout",
          "text": [
            "[0.919753086419753, 0.9185185185185185, 0.9358024691358026, 0.9271604938271606, 0.9308641975308642, 0.9271604938271606, 0.9308641975308642, 0.9246913580246913, 0.9234567901234568, 0.9222222222222222, 0.9259259259259259, 0.9234567901234568, 0.9259259259259259, 0.9222222222222223, 0.9234567901234569, 0.9135802469135804, 0.9234567901234569, 0.9135802469135802, 0.9185185185185185, 0.9123456790123458, 0.9160493827160494, 0.9111111111111111, 0.9135802469135804, 0.9074074074074074, 0.9098765432098765, 0.9074074074074074, 0.9098765432098765, 0.9049382716049383, 0.9049382716049383, 0.9049382716049383]\n"
          ]
        }
      ],
      "source": [
        "# Plot\n",
        "plt.plot(k_values, k_scores, marker='o')\n",
        "\n",
        "plt.xlabel('k Values')\n",
        "plt.ylabel('Cross-Validated Accuracy')\n",
        "plt.title('K-NN Varying number of neighbors')\n",
        "plt.grid()\n",
        "plt.show()\n",
        "\n",
        "print(k_scores)"
      ]
    },
    {
      "cell_type": "code",
      "execution_count": 60,
      "metadata": {
        "id": "zfEyGi_J5Y1T",
        "colab": {
          "base_uri": "https://localhost:8080/"
        },
        "outputId": "0ccda33e-1795-4073-b188-f2a9b137fb52"
      },
      "outputs": [
        {
          "output_type": "stream",
          "name": "stdout",
          "text": [
            "k = 1 : Cross-Validated Accuracy = 0.9198\n",
            "k = 2 : Cross-Validated Accuracy = 0.9185\n",
            "k = 3 : Cross-Validated Accuracy = 0.9358\n",
            "k = 4 : Cross-Validated Accuracy = 0.9272\n",
            "k = 5 : Cross-Validated Accuracy = 0.9309\n",
            "k = 6 : Cross-Validated Accuracy = 0.9272\n",
            "k = 7 : Cross-Validated Accuracy = 0.9309\n",
            "k = 8 : Cross-Validated Accuracy = 0.9247\n",
            "k = 9 : Cross-Validated Accuracy = 0.9235\n",
            "k = 10 : Cross-Validated Accuracy = 0.9222\n",
            "k = 11 : Cross-Validated Accuracy = 0.9259\n",
            "k = 12 : Cross-Validated Accuracy = 0.9235\n",
            "k = 13 : Cross-Validated Accuracy = 0.9259\n",
            "k = 14 : Cross-Validated Accuracy = 0.9222\n",
            "k = 15 : Cross-Validated Accuracy = 0.9235\n",
            "k = 16 : Cross-Validated Accuracy = 0.9136\n",
            "k = 17 : Cross-Validated Accuracy = 0.9235\n",
            "k = 18 : Cross-Validated Accuracy = 0.9136\n",
            "k = 19 : Cross-Validated Accuracy = 0.9185\n",
            "k = 20 : Cross-Validated Accuracy = 0.9123\n",
            "k = 21 : Cross-Validated Accuracy = 0.9160\n",
            "k = 22 : Cross-Validated Accuracy = 0.9111\n",
            "k = 23 : Cross-Validated Accuracy = 0.9136\n",
            "k = 24 : Cross-Validated Accuracy = 0.9074\n",
            "k = 25 : Cross-Validated Accuracy = 0.9099\n",
            "k = 26 : Cross-Validated Accuracy = 0.9074\n",
            "k = 27 : Cross-Validated Accuracy = 0.9099\n",
            "k = 28 : Cross-Validated Accuracy = 0.9049\n",
            "k = 29 : Cross-Validated Accuracy = 0.9049\n",
            "k = 30 : Cross-Validated Accuracy = 0.9049\n"
          ]
        }
      ],
      "source": [
        "# Menampilkan hasil cross-validated accuracy untuk setiap nilai k\n",
        "for k, score in zip(k_values, k_scores):\n",
        "    print(f\"k = {k} : Cross-Validated Accuracy = {score:.4f}\")"
      ]
    },
    {
      "cell_type": "code",
      "execution_count": 61,
      "metadata": {
        "id": "Ui1ok9Khvx1m",
        "colab": {
          "base_uri": "https://localhost:8080/"
        },
        "outputId": "979f92d8-d68a-4220-e817-0d35ed8fb37a"
      },
      "outputs": [
        {
          "output_type": "stream",
          "name": "stdout",
          "text": [
            "Nilai k terbaik: 3\n"
          ]
        }
      ],
      "source": [
        "# Memilih parameter k terbaik\n",
        "best_index = np.argmax(k_scores)\n",
        "best_k_value = k_values[best_index]\n",
        "\n",
        "print(\"Nilai k terbaik:\", best_k_value)"
      ]
    },
    {
      "cell_type": "code",
      "execution_count": 62,
      "metadata": {
        "id": "F59ONCEtwlVs",
        "colab": {
          "base_uri": "https://localhost:8080/"
        },
        "outputId": "116cae68-c6f1-423a-b225-b4a82242bded"
      },
      "outputs": [
        {
          "output_type": "stream",
          "name": "stdout",
          "text": [
            "[0 0 0 0 0 0 0 0 0 0 1 0 0 0 1 0 1 0 1 0 0 0 0 0 0 0 0 0 0 0 0 0 0 0 0 0 0\n",
            " 0 0 0 0 1 0 0 0 0 1 0 0 0 0 0 0 0 0 1 0 1 1 0 0 0 0 0 0 0 1 0 0 0 0 0 0 0\n",
            " 0 1 0 0 1 0 0 0 1 0 0 0 0 1 0 0 0]\n"
          ]
        }
      ],
      "source": [
        "# Klasifikasi k-NN\n",
        "knn = KNeighborsClassifier(n_neighbors=best_k_value)  # Pastikan best_k_value sudah didefinisikan\n",
        "knn.fit(x_train_final, y_train)  # Gunakan x_train_final yang sudah distandarisasi dan digabungkan\n",
        "y_pred = knn.predict(x_test_final)  # Gunakan x_test_final yang sudah distandarisasi dan digabungkan\n",
        "\n",
        "# Menampilkan hasil prediksi\n",
        "print(y_pred)"
      ]
    },
    {
      "cell_type": "code",
      "source": [
        "np.array(y_test)"
      ],
      "metadata": {
        "colab": {
          "base_uri": "https://localhost:8080/"
        },
        "id": "neYWeVjAO_PK",
        "outputId": "634fc37d-f06f-4c76-f07f-19a9521e5b95"
      },
      "execution_count": 63,
      "outputs": [
        {
          "output_type": "execute_result",
          "data": {
            "text/plain": [
              "array([0, 0, 0, 0, 0, 0, 0, 0, 0, 0, 0, 0, 0, 0, 1, 0, 1, 0, 1, 0, 0, 0,\n",
              "       1, 0, 0, 0, 0, 0, 0, 0, 0, 0, 0, 0, 0, 0, 0, 0, 0, 0, 0, 1, 0, 0,\n",
              "       0, 0, 1, 0, 0, 0, 0, 0, 0, 0, 0, 1, 0, 1, 1, 0, 0, 0, 0, 0, 0, 0,\n",
              "       1, 0, 0, 0, 0, 0, 0, 0, 0, 1, 0, 0, 1, 0, 0, 0, 1, 0, 0, 0, 0, 1,\n",
              "       0, 0, 0])"
            ]
          },
          "metadata": {},
          "execution_count": 63
        }
      ]
    },
    {
      "cell_type": "code",
      "execution_count": 64,
      "metadata": {
        "id": "OZdBIrWUwvBa",
        "colab": {
          "base_uri": "https://localhost:8080/"
        },
        "outputId": "b7a77810-e4bd-4c84-ddc6-fdf4ec5b6d89"
      },
      "outputs": [
        {
          "output_type": "stream",
          "name": "stdout",
          "text": [
            "Confusion Matrix:\n",
            "[[76  1]\n",
            " [ 1 13]]\n"
          ]
        }
      ],
      "source": [
        "# Menghitung Confusion Matrix\n",
        "cm = confusion_matrix(y_test, y_pred)\n",
        "print(\"Confusion Matrix:\")\n",
        "print(cm)"
      ]
    },
    {
      "cell_type": "code",
      "execution_count": 65,
      "metadata": {
        "id": "u33_sKGDw5yi",
        "colab": {
          "base_uri": "https://localhost:8080/"
        },
        "outputId": "fa61dc7a-48fa-4c42-f3bf-271fbf973e5a"
      },
      "outputs": [
        {
          "output_type": "stream",
          "name": "stdout",
          "text": [
            "Akurasi: 0.978021978021978\n"
          ]
        }
      ],
      "source": [
        "# Menghitung akurasi\n",
        "accuracy = accuracy_score(y_test, y_pred)\n",
        "print(\"Akurasi:\", accuracy)"
      ]
    },
    {
      "cell_type": "code",
      "execution_count": 66,
      "metadata": {
        "id": "_5ShQlp9xMZm",
        "colab": {
          "base_uri": "https://localhost:8080/"
        },
        "outputId": "d7ce3dbe-bba8-4a81-f8b9-194a37dbbcec"
      },
      "outputs": [
        {
          "output_type": "stream",
          "name": "stdout",
          "text": [
            "Classification Report:\n",
            "              precision    recall  f1-score   support\n",
            "\n",
            "           0       0.99      0.99      0.99        77\n",
            "           1       0.93      0.93      0.93        14\n",
            "\n",
            "    accuracy                           0.98        91\n",
            "   macro avg       0.96      0.96      0.96        91\n",
            "weighted avg       0.98      0.98      0.98        91\n",
            "\n"
          ]
        }
      ],
      "source": [
        "# Menampilkan Classification Report\n",
        "print(\"Classification Report:\")\n",
        "print(classification_report(y_test, y_pred))"
      ]
    },
    {
      "cell_type": "code",
      "source": [
        "from sklearn.metrics import classification_report\n",
        "\n",
        "# Classification Report dengan 3 digit\n",
        "print(\"\\nClassification Report:\")\n",
        "print(classification_report(y_test, y_pred, digits=3))"
      ],
      "metadata": {
        "colab": {
          "base_uri": "https://localhost:8080/"
        },
        "id": "-c1D-7QjpPfI",
        "outputId": "5424fed5-2efa-4e67-f8a1-79458864ec8d"
      },
      "execution_count": 67,
      "outputs": [
        {
          "output_type": "stream",
          "name": "stdout",
          "text": [
            "\n",
            "Classification Report:\n",
            "              precision    recall  f1-score   support\n",
            "\n",
            "           0      0.987     0.987     0.987        77\n",
            "           1      0.929     0.929     0.929        14\n",
            "\n",
            "    accuracy                          0.978        91\n",
            "   macro avg      0.958     0.958     0.958        91\n",
            "weighted avg      0.978     0.978     0.978        91\n",
            "\n"
          ]
        }
      ]
    },
    {
      "cell_type": "code",
      "source": [
        "# Simpan model k-NN ke file\n",
        "import pickle\n",
        "knn_model_path = '/content/drive/MyDrive/Skripsi/knn_model.pkl'\n",
        "with open(knn_model_path, 'wb') as file:\n",
        "    pickle.dump(knn, file)\n",
        "print(f\"Model k-NN telah disimpan ke {knn_model_path}\")"
      ],
      "metadata": {
        "colab": {
          "base_uri": "https://localhost:8080/"
        },
        "id": "qUmviGP15JjC",
        "outputId": "35e72a0c-a88a-4216-ba9f-b2b677a7b09a"
      },
      "execution_count": 68,
      "outputs": [
        {
          "output_type": "stream",
          "name": "stdout",
          "text": [
            "Model k-NN telah disimpan ke /content/drive/MyDrive/Skripsi/knn_model.pkl\n"
          ]
        }
      ]
    }
  ],
  "metadata": {
    "colab": {
      "provenance": [],
      "toc_visible": true
    },
    "kernelspec": {
      "display_name": "Python 3",
      "name": "python3"
    },
    "language_info": {
      "name": "python"
    }
  },
  "nbformat": 4,
  "nbformat_minor": 0
}